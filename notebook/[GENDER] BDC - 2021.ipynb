{
  "cells": [
    {
      "cell_type": "markdown",
      "metadata": {
        "id": "3xODT5FfnTsK",
        "papermill": {
          "duration": 0.027212,
          "end_time": "2021-11-07T07:10:09.921864",
          "exception": false,
          "start_time": "2021-11-07T07:10:09.894652",
          "status": "completed"
        },
        "tags": []
      },
      "source": [
        "# BDC - Satria Data 2021\r\n",
        "\r\n",
        "Task : Gender Detection\r\n",
        "\r\n",
        "## Authors\r\n",
        "\r\n",
        "1. Muhammad Amanda\r\n",
        "2. Naufal Zhafran A.\r\n",
        "3. Wahyu Setianto\r\n",
        "\r\n",
        "## Running On\r\n",
        "\r\n",
        "| Environtment | Keterangan | Link |\r\n",
        "| ------------ | ---------- | ---- |\r\n",
        "| Kaggle       | **Main Environtment** menggunakan GPU NVIDIA TESLA P100 GPU's | [![kaggle](https://img.shields.io/badge/%20-Kaggle-blue?logo=kaggle)](https://www.kaggle.com/wahyusetianto/gender-bdc-2021) |\r\n",
        "| Colab        | **Secondary**  menggunakan GPU NVIDIA TESLA K80's | [![colab](https://colab.research.google.com/assets/colab-badge.svg)](https://colab.research.google.com/github/Hyuto/bdc-2021/blob/master/notebook/%5BGENDER%5D%20BDC%20-%202021.ipynb) |"
      ]
    },
    {
      "cell_type": "markdown",
      "metadata": {
        "id": "lqZZhDEZnTsN",
        "papermill": {
          "duration": 0.025764,
          "end_time": "2021-11-07T07:10:09.974139",
          "exception": false,
          "start_time": "2021-11-07T07:10:09.948375",
          "status": "completed"
        },
        "tags": []
      },
      "source": [
        "## First Thing First\n",
        "\n",
        "Menginstall library yang diperlukan dan mengimport library - library yang akan digunakan serta menseting variable config yang akan digunakan di dalam notebook ini."
      ]
    },
    {
      "cell_type": "markdown",
      "metadata": {
        "id": "1Szwf5zinTsO",
        "papermill": {
          "duration": 0.026198,
          "end_time": "2021-11-07T07:10:10.026201",
          "exception": false,
          "start_time": "2021-11-07T07:10:10.000003",
          "status": "completed"
        },
        "tags": []
      },
      "source": [
        "1. Menginstal library `MTCNN` dan `Albumentations`\r\n",
        "   \r\n",
        "   Library `MTCNN` dan `Albumentations` adalah library yang digunakan untuk preprocessing data gambar pada notebook ini"
      ]
    },
    {
      "cell_type": "code",
      "execution_count": null,
      "metadata": {
        "colab": {
          "base_uri": "https://localhost:8080/"
        },
        "execution": {
          "iopub.execute_input": "2021-11-07T07:10:10.090481Z",
          "iopub.status.busy": "2021-11-07T07:10:10.089722Z",
          "iopub.status.idle": "2021-11-07T07:10:27.812240Z",
          "shell.execute_reply": "2021-11-07T07:10:27.811240Z",
          "shell.execute_reply.started": "2021-11-07T06:11:18.251857Z"
        },
        "id": "wfT1LPBBnTsO",
        "outputId": "4da7b8ec-4fe7-4063-9c02-599eb54d28f3",
        "papermill": {
          "duration": 17.760432,
          "end_time": "2021-11-07T07:10:27.812408",
          "exception": false,
          "start_time": "2021-11-07T07:10:10.051976",
          "status": "completed"
        },
        "tags": []
      },
      "outputs": [],
      "source": [
        "!pip -q install mtcnn --upgrade\n",
        "!pip -q install albumentations --upgrade"
      ]
    },
    {
      "cell_type": "markdown",
      "metadata": {
        "id": "LO0duEwonTsP",
        "papermill": {
          "duration": 0.026094,
          "end_time": "2021-11-07T07:10:27.866495",
          "exception": false,
          "start_time": "2021-11-07T07:10:27.840401",
          "status": "completed"
        },
        "tags": []
      },
      "source": [
        "2. Importing library\r\n",
        "   \r\n",
        "   Mengimport library yang akan digunakan dalam notebook ini."
      ]
    },
    {
      "cell_type": "code",
      "execution_count": null,
      "metadata": {
        "_cell_guid": "b1076dfc-b9ad-4769-8c92-a6c4dae69d19",
        "_uuid": "8f2839f25d086af736a60e9eeb907d3b93b6e0e5",
        "colab": {
          "base_uri": "https://localhost:8080/"
        },
        "execution": {
          "iopub.execute_input": "2021-11-07T07:10:27.925414Z",
          "iopub.status.busy": "2021-11-07T07:10:27.924738Z",
          "iopub.status.idle": "2021-11-07T07:10:34.315020Z",
          "shell.execute_reply": "2021-11-07T07:10:34.315732Z",
          "shell.execute_reply.started": "2021-11-07T06:11:35.673785Z"
        },
        "id": "PMeHlQijnTsQ",
        "outputId": "d8c4d437-8e6b-471f-faf5-5bba6d27e5ef",
        "papermill": {
          "duration": 6.423271,
          "end_time": "2021-11-07T07:10:34.315958",
          "exception": false,
          "start_time": "2021-11-07T07:10:27.892687",
          "status": "completed"
        },
        "tags": []
      },
      "outputs": [],
      "source": [
        "# Umum\n",
        "import os, random, re\n",
        "from tqdm.notebook import tqdm\n",
        "import numpy as np\n",
        "import pandas as pd\n",
        "from PIL import Image\n",
        "\n",
        "# Tensorflow\n",
        "import tensorflow as tf\n",
        "from tensorflow.keras.preprocessing.image import load_img, img_to_array\n",
        "\n",
        "# Metrics & Splitting data\n",
        "from sklearn.metrics import *\n",
        "from sklearn.model_selection import *\n",
        "\n",
        "# Plotting\n",
        "import matplotlib.pyplot as plt\n",
        "import seaborn as sns\n",
        "\n",
        "# Preprocessing\n",
        "import cv2\n",
        "from mtcnn import MTCNN\n",
        "import albumentations as A\n",
        "\n",
        "print(\"Tensorflow :\", tf.__version__)"
      ]
    },
    {
      "cell_type": "markdown",
      "metadata": {
        "id": "JVpuhpB5nTsQ",
        "papermill": {
          "duration": 0.026576,
          "end_time": "2021-11-07T07:10:34.370780",
          "exception": false,
          "start_time": "2021-11-07T07:10:34.344204",
          "status": "completed"
        },
        "tags": []
      },
      "source": [
        "3. Setup `CONFIG`\r\n",
        "   \r\n",
        "   Mensetup varible - variable yang digunakan sebagai config pada notebook ini"
      ]
    },
    {
      "cell_type": "code",
      "execution_count": null,
      "metadata": {
        "execution": {
          "iopub.execute_input": "2021-11-07T07:10:34.432335Z",
          "iopub.status.busy": "2021-11-07T07:10:34.431764Z",
          "iopub.status.idle": "2021-11-07T07:10:36.947294Z",
          "shell.execute_reply": "2021-11-07T07:10:36.946475Z",
          "shell.execute_reply.started": "2021-11-07T06:11:42.392351Z"
        },
        "id": "oD_czwMLnTsR",
        "papermill": {
          "duration": 2.547682,
          "end_time": "2021-11-07T07:10:36.947431",
          "exception": false,
          "start_time": "2021-11-07T07:10:34.399749",
          "status": "completed"
        },
        "tags": []
      },
      "outputs": [],
      "source": [
        "SEED = 2021\n",
        "SIZE = (200, 200)\n",
        "BATCH_SIZE = 32\n",
        "FACE_THRESHOLD = 0.95\n",
        "FACE_DETECTOR = MTCNN()"
      ]
    },
    {
      "cell_type": "markdown",
      "metadata": {
        "id": "get7fxCpnTsS",
        "papermill": {
          "duration": 0.027341,
          "end_time": "2021-11-07T07:10:37.003109",
          "exception": false,
          "start_time": "2021-11-07T07:10:36.975768",
          "status": "completed"
        },
        "tags": []
      },
      "source": [
        "## Dataset\r\n",
        "\r\n",
        "Mendownload dataset hasil preprocessing tim kami dan Load dataset yang mengandung informasi `path` dari data gambar.\r\n",
        "\r\n",
        "1. Mendownload dataset hasil preprocessing tim `SD20210000722` dari [repository Github](https://github.com/Hyuto/bdc-2021)\r\n",
        "   \r\n",
        "   **Note** : Pastikan `git` telah terinstall"
      ]
    },
    {
      "cell_type": "code",
      "execution_count": null,
      "metadata": {
        "colab": {
          "base_uri": "https://localhost:8080/"
        },
        "id": "y3SFN0LDnlD5",
        "outputId": "01f50563-cf79-4872-d1c2-91a9bd641c3d"
      },
      "outputs": [],
      "source": [
        "!git clone https://github.com/Hyuto/bdc-2021.git"
      ]
    },
    {
      "cell_type": "markdown",
      "metadata": {
        "id": "cEUooQQBoSui"
      },
      "source": [
        "Extract preprocess & augmented data"
      ]
    },
    {
      "cell_type": "code",
      "execution_count": null,
      "metadata": {
        "id": "vdT-J1_2nTsT"
      },
      "outputs": [],
      "source": [
        "import zipfile\n",
        "\n",
        "MAIN_DIR = os.path.join(\".\", \"bdc-2021\")\n",
        "DATA_DIR = os.path.join(MAIN_DIR, \"data\")\n",
        "\n",
        "with zipfile.ZipFile(os.path.join(DATA_DIR, \"preprocessed.zip\"), 'r') as zip_ref:\n",
        "    zip_ref.extractall(DATA_DIR)\n",
        "\n",
        "with zipfile.ZipFile(os.path.join(DATA_DIR, \"preprocessed-augmented.zip\"), 'r') as zip_ref:\n",
        "    zip_ref.extractall(DATA_DIR)"
      ]
    },
    {
      "cell_type": "markdown",
      "metadata": {
        "id": "xJEAuBuXnTsT"
      },
      "source": [
        "2. Read Dataset\r\n",
        "   \r\n",
        "   Membaca data `csv` untuk mendapatkan informasi `path`, `jenis kelamin` dan `umur` dari data gambar"
      ]
    },
    {
      "cell_type": "code",
      "execution_count": null,
      "metadata": {
        "colab": {
          "base_uri": "https://localhost:8080/",
          "height": 203
        },
        "execution": {
          "iopub.execute_input": "2021-11-07T07:10:37.063614Z",
          "iopub.status.busy": "2021-11-07T07:10:37.063070Z",
          "iopub.status.idle": "2021-11-07T07:10:37.104868Z",
          "shell.execute_reply": "2021-11-07T07:10:37.105374Z",
          "shell.execute_reply.started": "2021-11-07T06:11:44.897867Z"
        },
        "id": "Ypzk2ZlNnTsU",
        "outputId": "aa9aa003-0cf4-47f5-8259-dc16bcb98bc4",
        "papermill": {
          "duration": 0.074239,
          "end_time": "2021-11-07T07:10:37.105531",
          "exception": false,
          "start_time": "2021-11-07T07:10:37.031292",
          "status": "completed"
        },
        "tags": []
      },
      "outputs": [],
      "source": [
        "train = pd.read_csv(f\"{DATA_DIR}/train.csv\")\n",
        "test = pd.read_csv(f\"{DATA_DIR}/submission.csv\")\n",
        "train.head()"
      ]
    },
    {
      "cell_type": "markdown",
      "metadata": {
        "id": "wtIsW_jnnTsU",
        "papermill": {
          "duration": 0.027746,
          "end_time": "2021-11-07T07:10:37.161314",
          "exception": false,
          "start_time": "2021-11-07T07:10:37.133568",
          "status": "completed"
        },
        "tags": []
      },
      "source": [
        "memperjelas `path` ke setiap data gambar"
      ]
    },
    {
      "cell_type": "code",
      "execution_count": null,
      "metadata": {
        "execution": {
          "iopub.execute_input": "2021-11-07T07:10:37.227984Z",
          "iopub.status.busy": "2021-11-07T07:10:37.227243Z",
          "iopub.status.idle": "2021-11-07T07:10:39.544389Z",
          "shell.execute_reply": "2021-11-07T07:10:39.543869Z",
          "shell.execute_reply.started": "2021-11-07T06:11:44.939358Z"
        },
        "id": "MsA8pQiJnTsV",
        "papermill": {
          "duration": 2.354532,
          "end_time": "2021-11-07T07:10:39.544526",
          "exception": false,
          "start_time": "2021-11-07T07:10:37.189994",
          "status": "completed"
        },
        "tags": []
      },
      "outputs": [],
      "source": [
        "images = []\n",
        "labels = []\n",
        "ages = []\n",
        "test_images = []\n",
        "\n",
        "TRAIN_DIR = f\"{DATA_DIR}/Training\"\n",
        "TEST_DIR = f\"{DATA_DIR}/Testing\"\n",
        "\n",
        "for no, label, usia in train[[\"nomor\", \"jenis kelamin\", \"usia\"]].values:\n",
        "    TEMP_DIR = os.path.join(TRAIN_DIR, str(no))\n",
        "    for file in os.listdir(TEMP_DIR):\n",
        "        file_dir = os.path.join(TEMP_DIR, file)\n",
        "        if \".ini\" not in file_dir:\n",
        "            images.append(file_dir)\n",
        "            labels.append(label)\n",
        "            ages.append(usia)\n",
        "\n",
        "for no in test.id.values:\n",
        "    file_dir = os.path.join(TEST_DIR, f\"{no}.jpg\")\n",
        "    if os.path.isfile(file_dir):\n",
        "        test_images.append(file_dir)\n",
        "    else:\n",
        "        test_images.append(None)\n",
        "        print(file_dir)"
      ]
    },
    {
      "cell_type": "markdown",
      "metadata": {
        "id": "F-EvgW-unTsV",
        "papermill": {
          "duration": 0.028487,
          "end_time": "2021-11-07T07:10:39.601378",
          "exception": false,
          "start_time": "2021-11-07T07:10:39.572891",
          "status": "completed"
        },
        "tags": []
      },
      "source": [
        "menampilkan dan mengecek beberapa gambar pada data `train`"
      ]
    },
    {
      "cell_type": "code",
      "execution_count": null,
      "metadata": {
        "execution": {
          "iopub.execute_input": "2021-11-07T07:10:39.668462Z",
          "iopub.status.busy": "2021-11-07T07:10:39.660740Z",
          "iopub.status.idle": "2021-11-07T07:10:39.670793Z",
          "shell.execute_reply": "2021-11-07T07:10:39.670270Z",
          "shell.execute_reply.started": "2021-11-07T06:11:46.775447Z"
        },
        "id": "0AGKX0NNnTsV",
        "papermill": {
          "duration": 0.041498,
          "end_time": "2021-11-07T07:10:39.670931",
          "exception": false,
          "start_time": "2021-11-07T07:10:39.629433",
          "status": "completed"
        },
        "tags": []
      },
      "outputs": [],
      "source": [
        "def read(path):\n",
        "    \"\"\"\n",
        "    Read data gambar\n",
        "    \"\"\"\n",
        "    img = Image.open(path)\n",
        "    return img\n",
        "\n",
        "def show_images(list_dir, label = None, age = None, load_image = read, seed = SEED):\n",
        "    \"\"\"\n",
        "    Menampilkan Gambar Secara acak sebanyak 5 buah.\n",
        "    \"\"\"\n",
        "    random.seed(seed)\n",
        "    unique = [\"init\"]\n",
        "    if label:\n",
        "        unique = list(set(label))\n",
        "    fig, axes = plt.subplots(len(unique), 5, figsize = (20, 5 * len(unique)))\n",
        "    for i in range(len(unique)):\n",
        "        if i == 0 and unique[i] == \"init\":\n",
        "            data = random.sample(list_dir, 5)\n",
        "        elif age != None:\n",
        "            data = random.sample([x for x in zip(list_dir, label, age) if x[1] == unique[i]], 5)\n",
        "        else:\n",
        "            data = random.sample([x for x in zip(list_dir, label) if x[1] == unique[i]], 5)\n",
        "        for j in range(5):\n",
        "            if unique[0] != \"init\":\n",
        "                img = load_image(data[j][0])\n",
        "                text = f'Label : {data[j][1]}'\n",
        "                if age != None:\n",
        "                    text += f'\\nAge : {data[j][2]}'\n",
        "                axes[i, j].imshow(img)\n",
        "                axes[i, j].set_title(text, fontsize = 14)\n",
        "                axes[i, j].axis('off')\n",
        "            else:\n",
        "                img = load_image(data[j])\n",
        "                axes[j].imshow(img)\n",
        "                axes[j].axis('off')\n",
        "    fig.tight_layout()\n",
        "    plt.show()"
      ]
    },
    {
      "cell_type": "code",
      "execution_count": null,
      "metadata": {
        "colab": {
          "base_uri": "https://localhost:8080/",
          "height": 733
        },
        "execution": {
          "iopub.execute_input": "2021-11-07T07:10:39.782467Z",
          "iopub.status.busy": "2021-11-07T07:10:39.764113Z",
          "iopub.status.idle": "2021-11-07T07:10:42.236166Z",
          "shell.execute_reply": "2021-11-07T07:10:42.236594Z",
          "shell.execute_reply.started": "2021-11-07T06:11:46.788857Z"
        },
        "id": "3bLeaxsAnTsW",
        "outputId": "9228c957-0697-484b-be71-386a2c04761d",
        "papermill": {
          "duration": 2.537997,
          "end_time": "2021-11-07T07:10:42.236740",
          "exception": false,
          "start_time": "2021-11-07T07:10:39.698743",
          "status": "completed"
        },
        "tags": []
      },
      "outputs": [],
      "source": [
        "show_images(images, labels, ages, seed=20)"
      ]
    },
    {
      "cell_type": "markdown",
      "metadata": {
        "id": "avcyjAzpnTsW",
        "papermill": {
          "duration": 0.064605,
          "end_time": "2021-11-07T07:10:42.365966",
          "exception": false,
          "start_time": "2021-11-07T07:10:42.301361",
          "status": "completed"
        },
        "tags": []
      },
      "source": [
        "## Preprocess Data\n",
        "\n",
        "Metode yang digunakan:\n",
        "\n",
        "1. Mengekstrak wajah - wajah yang terdapat pada gambar menjadi gambar - gambar baru dengan label yang sama dengan menggunakan model `MTCNN`\n",
        "2. Pada data test jika terdapat dua wajah yang terdeteksi pada satu gambar akan di ambil wajah dengan tingkat confidence terbesar yang diberikan oleh model `MTCNN`.\n",
        "3. Jika tidak terdetect wajah pada salah satu gambar maka akan dilakukan crop pada bagian tengah gambar sehingga gambar berbentuk persegi atau `jxj` pixel.\n",
        "4. Selanjutnya gambar akan di resize menjadi ukuran `256x256` pixel\n",
        "\n",
        "berikut adalah contoh hasil preprocess data gambar."
      ]
    },
    {
      "cell_type": "code",
      "execution_count": null,
      "metadata": {
        "execution": {
          "iopub.execute_input": "2021-11-07T07:10:42.506330Z",
          "iopub.status.busy": "2021-11-07T07:10:42.504445Z",
          "iopub.status.idle": "2021-11-07T07:10:42.506951Z",
          "shell.execute_reply": "2021-11-07T07:10:42.507365Z",
          "shell.execute_reply.started": "2021-11-07T06:11:49.338346Z"
        },
        "id": "UCBDDx9WnTsX",
        "papermill": {
          "duration": 0.077464,
          "end_time": "2021-11-07T07:10:42.507500",
          "exception": false,
          "start_time": "2021-11-07T07:10:42.430036",
          "status": "completed"
        },
        "tags": []
      },
      "outputs": [],
      "source": [
        "def get_faces(path):\n",
        "    image = cv2.cvtColor(cv2.imread(path), cv2.COLOR_BGR2RGB)\n",
        "    faces = FACE_DETECTOR.detect_faces(image)\n",
        "    return faces\n",
        "\n",
        "def load_and_preprocess_image(path: str, size = SIZE):\n",
        "    \"\"\"\n",
        "    Load & Preprocess data gambar\n",
        "    \"\"\"\n",
        "    image = img_to_array(load_img(path))\n",
        "    faces = [x['box'] for x in get_faces(path) if x['confidence'] > FACE_THRESHOLD]\n",
        "    if len(faces) > 0:\n",
        "        x, y, w, h = faces[0]\n",
        "        image = image[y:y+h, x:x+w]\n",
        "    img = tf.convert_to_tensor(image, dtype=tf.float32)\n",
        "    if len(faces) == 0:\n",
        "        shapes = tf.shape(img)\n",
        "        h, w = shapes[-3], shapes[-2]\n",
        "        dim = tf.minimum(h, w)\n",
        "        img = tf.image.resize_with_crop_or_pad(img, dim, dim)\n",
        "    img = tf.image.resize(img, size)\n",
        "    img = tf.cast(img, tf.float32) / 255.0\n",
        "    return img.numpy()"
      ]
    },
    {
      "cell_type": "code",
      "execution_count": null,
      "metadata": {
        "colab": {
          "base_uri": "https://localhost:8080/",
          "height": 672
        },
        "execution": {
          "iopub.execute_input": "2021-11-07T07:10:42.658264Z",
          "iopub.status.busy": "2021-11-07T07:10:42.638477Z",
          "iopub.status.idle": "2021-11-07T07:10:59.748458Z",
          "shell.execute_reply": "2021-11-07T07:10:59.748992Z",
          "shell.execute_reply.started": "2021-11-07T06:11:49.353691Z"
        },
        "id": "9nv0zFwunTsX",
        "outputId": "3734f98d-1529-4c51-8ce7-9cbd612b9248",
        "papermill": {
          "duration": 17.177973,
          "end_time": "2021-11-07T07:10:59.749187",
          "exception": false,
          "start_time": "2021-11-07T07:10:42.571214",
          "status": "completed"
        },
        "tags": []
      },
      "outputs": [],
      "source": [
        "show_images(images, labels, ages, load_image = load_and_preprocess_image, seed=20)"
      ]
    },
    {
      "cell_type": "markdown",
      "metadata": {
        "id": "uwf6EknOnTsY",
        "papermill": {
          "duration": 0.167018,
          "end_time": "2021-11-07T07:11:00.067550",
          "exception": false,
          "start_time": "2021-11-07T07:10:59.900532",
          "status": "completed"
        },
        "tags": []
      },
      "source": [
        "## Augmentasi Data\n",
        "\n",
        "Melakukan augmentasi untuk memperbanyak data. Metode augmentasi yang digunakan yaitu:\n",
        "\n",
        "1. Horizontal flip\n",
        "2. Donwscale kualitas gambar\n",
        "3. Random rotate dengan rentang -30 sampai 30 derajad\n",
        "4. Shift, scale, dan rotate gambar\n",
        "5. Blur\n",
        "6. Random brightness"
      ]
    },
    {
      "cell_type": "code",
      "execution_count": null,
      "metadata": {
        "execution": {
          "iopub.execute_input": "2021-11-07T07:11:00.417666Z",
          "iopub.status.busy": "2021-11-07T07:11:00.416808Z",
          "iopub.status.idle": "2021-11-07T07:11:00.419742Z",
          "shell.execute_reply": "2021-11-07T07:11:00.420963Z",
          "shell.execute_reply.started": "2021-11-07T06:12:06.820747Z"
        },
        "id": "jCWT32PFnTsY",
        "papermill": {
          "duration": 0.174933,
          "end_time": "2021-11-07T07:11:00.421154",
          "exception": false,
          "start_time": "2021-11-07T07:11:00.246221",
          "status": "completed"
        },
        "tags": []
      },
      "outputs": [],
      "source": [
        "aug = A.Compose([\n",
        "    A.HorizontalFlip(p=0.4),\n",
        "    A.Downscale(scale_min=0.6, scale_max=0.9, p=0.3),\n",
        "    A.Rotate(limit=(-30,30), p=0.6),\n",
        "    A.ShiftScaleRotate(shift_limit=(-0.07, 0.07), scale_limit=(-0.05, 0.1), rotate_limit=(-15, 15), p=0.4),\n",
        "    A.OneOf([\n",
        "        A.MotionBlur(p=.4),\n",
        "        A.MedianBlur(blur_limit=3, p=0.4),\n",
        "        A.Blur(blur_limit=3, p=0.4),\n",
        "    ], p=0.4),\n",
        "    A.RandomBrightnessContrast(brightness_limit=(-0.25, 0.15), p=0.4),\n",
        "])"
      ]
    },
    {
      "cell_type": "code",
      "execution_count": null,
      "metadata": {
        "execution": {
          "iopub.execute_input": "2021-11-07T07:11:00.655622Z",
          "iopub.status.busy": "2021-11-07T07:11:00.654976Z",
          "iopub.status.idle": "2021-11-07T07:11:00.657712Z",
          "shell.execute_reply": "2021-11-07T07:11:00.658132Z",
          "shell.execute_reply.started": "2021-11-07T06:12:06.830242Z"
        },
        "id": "0M6PKhfgnTsY",
        "papermill": {
          "duration": 0.097944,
          "end_time": "2021-11-07T07:11:00.658278",
          "exception": false,
          "start_time": "2021-11-07T07:11:00.560334",
          "status": "completed"
        },
        "tags": []
      },
      "outputs": [],
      "source": [
        "def visualize_aug(path):\n",
        "    fig, axes = plt.subplots(1, 5, figsize = (20, 5))\n",
        "    image = load_and_preprocess_image(path)\n",
        "    axes[0].imshow(image)\n",
        "    axes[0].axis('off')\n",
        "    for i in range(1, 5):\n",
        "        augmented = aug(image=image)['image']\n",
        "        axes[i].imshow(augmented)\n",
        "        axes[i].axis('off')\n",
        "    fig.tight_layout()\n",
        "    plt.show()"
      ]
    },
    {
      "cell_type": "code",
      "execution_count": null,
      "metadata": {
        "colab": {
          "base_uri": "https://localhost:8080/",
          "height": 874
        },
        "execution": {
          "iopub.execute_input": "2021-11-07T07:11:00.890695Z",
          "iopub.status.busy": "2021-11-07T07:11:00.856562Z",
          "iopub.status.idle": "2021-11-07T07:11:05.140506Z",
          "shell.execute_reply": "2021-11-07T07:11:05.141111Z",
          "shell.execute_reply.started": "2021-11-07T06:12:06.844145Z"
        },
        "id": "9abS9ZoxnTsY",
        "outputId": "527d803c-31ba-4c86-bf89-6358c2b20798",
        "papermill": {
          "duration": 4.394819,
          "end_time": "2021-11-07T07:11:05.141281",
          "exception": false,
          "start_time": "2021-11-07T07:11:00.746462",
          "status": "completed"
        },
        "tags": []
      },
      "outputs": [],
      "source": [
        "random.seed(SEED)\n",
        "for i in range(3):\n",
        "    visualize_aug(images[i])"
      ]
    },
    {
      "cell_type": "markdown",
      "metadata": {
        "id": "VD2FwnRLnTsY",
        "papermill": {
          "duration": 0.179107,
          "end_time": "2021-11-07T07:11:05.497113",
          "exception": false,
          "start_time": "2021-11-07T07:11:05.318006",
          "status": "completed"
        },
        "tags": []
      },
      "source": [
        "Running preprocessing pada data gambar secara keseluruhan"
      ]
    },
    {
      "cell_type": "code",
      "execution_count": null,
      "metadata": {
        "execution": {
          "iopub.execute_input": "2021-11-07T07:11:05.762463Z",
          "iopub.status.busy": "2021-11-07T07:11:05.761540Z",
          "iopub.status.idle": "2021-11-07T07:11:05.786245Z",
          "shell.execute_reply": "2021-11-07T07:11:05.785738Z",
          "shell.execute_reply.started": "2021-11-07T06:12:11.243922Z"
        },
        "id": "iEvEMmSPnTsZ",
        "papermill": {
          "duration": 0.160838,
          "end_time": "2021-11-07T07:11:05.786365",
          "exception": false,
          "start_time": "2021-11-07T07:11:05.625527",
          "status": "completed"
        },
        "tags": []
      },
      "outputs": [],
      "source": [
        "import shutil\r\n",
        "\r\n",
        "def image_preprocessing(new_dir, images, labels=None, ages=None):\r\n",
        "    if os.path.isdir(new_dir):\r\n",
        "        shutil.rmtree(new_dir)\r\n",
        "    os.mkdir(new_dir)\r\n",
        "    \r\n",
        "    new_images, new_labels, new_ages = [], [], []\r\n",
        "    labels = [None for _ in range(len(images))] if not labels else labels\r\n",
        "    ages = [None for _ in range(len(images))] if not ages else ages\r\n",
        "    \r\n",
        "    for path, label, age in tqdm(zip(images, labels, ages), total=len(images)):\r\n",
        "        image = img_to_array(load_img(path))\r\n",
        "        if label != None:\r\n",
        "            faces = [x['box'] for x in sorted(get_faces(path), key=lambda x: x['confidence'], \r\n",
        "                                              reverse=True) if x['confidence'] > FACE_THRESHOLD]\r\n",
        "        else:\r\n",
        "            faces = [x['box'] for x in sorted(get_faces(path), key=lambda x: x['confidence'], reverse=True)]\r\n",
        "        if len(faces) > 0:\r\n",
        "            if label != None:\r\n",
        "                for j, (x, y, w, h) in enumerate(faces):\r\n",
        "                    img = image[y:y+h, x:x+w]\r\n",
        "                    img = tf.convert_to_tensor(img, dtype=tf.float32)\r\n",
        "                    img = tf.image.resize(img, SIZE)\r\n",
        "                    img = tf.cast(img, tf.float32) / 255.0\r\n",
        "\r\n",
        "                    img_dir = os.path.join(new_dir, f'{j}_{path.split(\"/\")[-1]}')\r\n",
        "                    new_images.append(img_dir)\r\n",
        "                    new_labels.append(label)\r\n",
        "                    if age != None:\r\n",
        "                        new_ages.append(age)\r\n",
        "                    tf.keras.preprocessing.image.save_img(img_dir, img)\r\n",
        "                    \r\n",
        "                    for k in range(3):\r\n",
        "                        augmented = aug(image=img.numpy())['image']\r\n",
        "                        img_dir = os.path.join(new_dir, f'aug-{k}_{j}_{path.split(\"/\")[-1]}')\r\n",
        "                        new_images.append(img_dir)\r\n",
        "                        new_labels.append(label)\r\n",
        "                        if age != None:\r\n",
        "                            new_ages.append(age)\r\n",
        "                        tf.keras.preprocessing.image.save_img(img_dir, augmented)\r\n",
        "                        \r\n",
        "            else:\r\n",
        "                x, y, w, h = faces[0]\r\n",
        "                img = image[y:y+h, x:x+w]\r\n",
        "                img = tf.convert_to_tensor(img, dtype=tf.float32)\r\n",
        "                img = tf.image.resize(img, SIZE)\r\n",
        "                img = tf.cast(img, tf.float32) / 255.0\r\n",
        "            \r\n",
        "                img_dir = os.path.join(new_dir, path.split('/')[-1])\r\n",
        "                new_images.append(img_dir)\r\n",
        "                tf.keras.preprocessing.image.save_img(img_dir, img)\r\n",
        "                \r\n",
        "        else :\r\n",
        "            img = tf.convert_to_tensor(image, dtype=tf.float32)\r\n",
        "            shapes = tf.shape(img)\r\n",
        "            h, w = shapes[-3], shapes[-2]\r\n",
        "            dim = tf.minimum(h, w)\r\n",
        "            img = tf.image.resize_with_crop_or_pad(img, dim, dim)\r\n",
        "            img = tf.image.resize(img, SIZE)\r\n",
        "            img = tf.cast(img, tf.float32) / 255.0\r\n",
        "\r\n",
        "            img_dir = os.path.join(new_dir, path.split('/')[-1])\r\n",
        "            new_images.append(img_dir)\r\n",
        "            new_labels.append(label)\r\n",
        "            if age != None:\r\n",
        "                new_ages.append(age)\r\n",
        "            tf.keras.preprocessing.image.save_img(img_dir, img)\r\n",
        "            \r\n",
        "            if label != None:\r\n",
        "                for k in range(3):\r\n",
        "                    augmented = aug(image=img.numpy())['image']\r\n",
        "                    img_dir = os.path.join(new_dir,  f'aug-{k}_{path.split(\"/\")[-1]}')\r\n",
        "                    new_images.append(img_dir)\r\n",
        "                    new_labels.append(label)\r\n",
        "                    if age != None:\r\n",
        "                        new_ages.append(age)\r\n",
        "                    tf.keras.preprocessing.image.save_img(img_dir, augmented)\r\n",
        "    \r\n",
        "    return new_images, new_labels, new_ages"
      ]
    },
    {
      "cell_type": "markdown",
      "metadata": {
        "id": "gMsKpUYWnTsZ",
        "papermill": {
          "duration": 0.127654,
          "end_time": "2021-11-07T07:11:06.041112",
          "exception": false,
          "start_time": "2021-11-07T07:11:05.913458",
          "status": "completed"
        },
        "tags": []
      },
      "source": [
        "Untuk menghemat waktu running akan di skip bagian ini dan di ganti dengan meload data hasil preprocess yang sudah di save pada run sebelumnya. Namun jika ingin melakukan preprocess pada run sekarang maka uncomment code di bawah ini.\n",
        "\n",
        "**Peringatan** : running block code di bawah memakan waktu sekitar 50 menit dengan GPU Nvidia Tesla P100-PCIE."
      ]
    },
    {
      "cell_type": "code",
      "execution_count": null,
      "metadata": {
        "execution": {
          "iopub.execute_input": "2021-11-07T07:11:06.303310Z",
          "iopub.status.busy": "2021-11-07T07:11:06.301621Z",
          "iopub.status.idle": "2021-11-07T07:11:06.303976Z",
          "shell.execute_reply": "2021-11-07T07:11:06.304394Z",
          "shell.execute_reply.started": "2021-11-07T06:12:11.293087Z"
        },
        "id": "gPi7UoySnTsZ",
        "papermill": {
          "duration": 0.135434,
          "end_time": "2021-11-07T07:11:06.304529",
          "exception": false,
          "start_time": "2021-11-07T07:11:06.169095",
          "status": "completed"
        },
        "tags": []
      },
      "outputs": [],
      "source": [
        "# preprocessed_dir = \".\"\r\n",
        "# new_train_dir = \"./train\"\r\n",
        "# new_test_dir = \"./test\"\r\n",
        "\r\n",
        "# random.seed(SEED)\r\n",
        "# new_images, new_labels = image_preprocessing(new_train_dir, images, labels, ages)\r\n",
        "# new_test_images, _ = image_preprocessing(new_test_dir, test_images)\r\n",
        "\r\n",
        "# preprocessed = pd.DataFrame({\"image\": new_images, \"label\": new_labels, \"age\": new_ages})\r\n",
        "# preprocessed.head()"
      ]
    },
    {
      "cell_type": "markdown",
      "metadata": {
        "id": "N5S6-pPFnTsa",
        "papermill": {
          "duration": 0.126881,
          "end_time": "2021-11-07T07:11:06.557486",
          "exception": false,
          "start_time": "2021-11-07T07:11:06.430605",
          "status": "completed"
        },
        "tags": []
      },
      "source": [
        "**Note** : Comment kode block di bawah jika melakukan preprocess pada run saat ini."
      ]
    },
    {
      "cell_type": "code",
      "execution_count": null,
      "metadata": {
        "colab": {
          "base_uri": "https://localhost:8080/",
          "height": 203
        },
        "execution": {
          "iopub.execute_input": "2021-11-07T07:11:06.816901Z",
          "iopub.status.busy": "2021-11-07T07:11:06.816322Z",
          "iopub.status.idle": "2021-11-07T07:11:06.845542Z",
          "shell.execute_reply": "2021-11-07T07:11:06.845970Z",
          "shell.execute_reply.started": "2021-11-07T06:12:11.304462Z"
        },
        "id": "_ReiqrjZnTsa",
        "outputId": "360239e3-26b4-459a-82f8-d8c07e5d2d17",
        "papermill": {
          "duration": 0.161753,
          "end_time": "2021-11-07T07:11:06.846127",
          "exception": false,
          "start_time": "2021-11-07T07:11:06.684374",
          "status": "completed"
        },
        "tags": []
      },
      "outputs": [],
      "source": [
        "preprocessed_dir = os.path.join(DATA_DIR, 'preprocessed-augmented')\n",
        "preprocessed = pd.read_csv(f\"{preprocessed_dir}/preprocessed.csv\")\n",
        "preprocessed.head()"
      ]
    },
    {
      "cell_type": "markdown",
      "metadata": {
        "id": "YP4cDw7anTsa",
        "papermill": {
          "duration": 0.128178,
          "end_time": "2021-11-07T07:11:07.102061",
          "exception": false,
          "start_time": "2021-11-07T07:11:06.973883",
          "status": "completed"
        },
        "tags": []
      },
      "source": [
        "## Filterisasi Data\r\n",
        "\r\n",
        "Menyaring data yang akan dilatih ke dalam model dengan melakukan filterisasi terhadap data gambar yang memiliki kualitas gambar yang kurang baik dan misslabel."
      ]
    },
    {
      "cell_type": "code",
      "execution_count": null,
      "metadata": {
        "execution": {
          "iopub.execute_input": "2021-11-07T07:11:07.390339Z",
          "iopub.status.busy": "2021-11-07T07:11:07.366910Z",
          "iopub.status.idle": "2021-11-07T07:11:08.400489Z",
          "shell.execute_reply": "2021-11-07T07:11:08.401489Z",
          "shell.execute_reply.started": "2021-11-07T06:12:11.345530Z"
        },
        "id": "N1v6n2xWnTsa",
        "papermill": {
          "duration": 1.171971,
          "end_time": "2021-11-07T07:11:08.401711",
          "exception": false,
          "start_time": "2021-11-07T07:11:07.229740",
          "status": "completed"
        },
        "tags": []
      },
      "outputs": [],
      "source": [
        "with open(f\"{MAIN_DIR}/excluded-gender.txt\") as f:\n",
        "    excluded = [x for x in f.read().split(\"\\n\") if x != '']\n",
        "    \n",
        "patterns = fr'{\"|\".join(excluded)}'"
      ]
    },
    {
      "cell_type": "markdown",
      "metadata": {
        "id": "5vL-r4FjnTsa",
        "papermill": {
          "duration": 0.189903,
          "end_time": "2021-11-07T07:11:08.830353",
          "exception": false,
          "start_time": "2021-11-07T07:11:08.640450",
          "status": "completed"
        },
        "tags": []
      },
      "source": [
        "**Filtering**"
      ]
    },
    {
      "cell_type": "code",
      "execution_count": null,
      "metadata": {
        "execution": {
          "iopub.execute_input": "2021-11-07T07:11:09.112876Z",
          "iopub.status.busy": "2021-11-07T07:11:09.111956Z",
          "iopub.status.idle": "2021-11-07T07:11:09.319622Z",
          "shell.execute_reply": "2021-11-07T07:11:09.319139Z",
          "shell.execute_reply.started": "2021-11-07T06:12:12.430935Z"
        },
        "id": "qRcJiE3ynTsa",
        "papermill": {
          "duration": 0.356298,
          "end_time": "2021-11-07T07:11:09.319752",
          "exception": false,
          "start_time": "2021-11-07T07:11:08.963454",
          "status": "completed"
        },
        "tags": []
      },
      "outputs": [],
      "source": [
        "new_images, new_labels, new_ages = [], [], []\n",
        "\n",
        "for image, label, age in preprocessed[[\"image\", \"label\", \"age\"]].values:\n",
        "    if not re.search(patterns, image):\n",
        "        new_images.append(os.path.join(preprocessed_dir, image))\n",
        "        new_labels.append(label)\n",
        "        new_ages.append(age)\n",
        "\n",
        "new_test_images = np.asarray([os.path.join(preprocessed_dir, \"test\", f\"{x}.jpg\") for x in test.id.values])\n",
        "\n",
        "new_images = np.asarray(new_images)\n",
        "new_labels = np.asarray(new_labels)\n",
        "new_ages = np.asarray(new_ages)"
      ]
    },
    {
      "cell_type": "markdown",
      "metadata": {
        "id": "aRbQ3YP3nTsb",
        "papermill": {
          "duration": 0.131122,
          "end_time": "2021-11-07T07:11:09.581479",
          "exception": false,
          "start_time": "2021-11-07T07:11:09.450357",
          "status": "completed"
        },
        "tags": []
      },
      "source": [
        "Mengecek distribusi label pada data"
      ]
    },
    {
      "cell_type": "code",
      "execution_count": null,
      "metadata": {
        "colab": {
          "base_uri": "https://localhost:8080/",
          "height": 320
        },
        "execution": {
          "iopub.execute_input": "2021-11-07T07:11:09.852183Z",
          "iopub.status.busy": "2021-11-07T07:11:09.850308Z",
          "iopub.status.idle": "2021-11-07T07:11:09.997695Z",
          "shell.execute_reply": "2021-11-07T07:11:09.998899Z",
          "shell.execute_reply.started": "2021-11-07T06:12:12.645519Z"
        },
        "id": "B10CDjDAnTsb",
        "outputId": "e01f1e4b-a017-475b-c881-893edc3bf59e",
        "papermill": {
          "duration": 0.285755,
          "end_time": "2021-11-07T07:11:09.999139",
          "exception": false,
          "start_time": "2021-11-07T07:11:09.713384",
          "status": "completed"
        },
        "tags": []
      },
      "outputs": [],
      "source": [
        "plt.figure(figsize=(5, 5))\n",
        "sns.countplot(x=new_labels)\n",
        "plt.show()"
      ]
    },
    {
      "cell_type": "markdown",
      "metadata": {
        "id": "eIX9tsoOnTsb",
        "papermill": {
          "duration": 0.131548,
          "end_time": "2021-11-07T07:11:10.269761",
          "exception": false,
          "start_time": "2021-11-07T07:11:10.138213",
          "status": "completed"
        },
        "tags": []
      },
      "source": [
        "Jumlah data yang berlabel `0` dan `1` cenderung sama."
      ]
    },
    {
      "cell_type": "markdown",
      "metadata": {
        "id": "2L1d1pgonTsb",
        "papermill": {
          "duration": 0.182877,
          "end_time": "2021-11-07T07:11:10.586841",
          "exception": false,
          "start_time": "2021-11-07T07:11:10.403964",
          "status": "completed"
        },
        "tags": []
      },
      "source": [
        "## Modelling\n",
        "\n",
        "Membuat model dengan arsitektur sebagai berikut\n",
        "\n",
        "![arsitektur model gender](https://raw.githubusercontent.com/Hyuto/bdc-2021/master/assets/arsitektur-model-gender.png)"
      ]
    },
    {
      "cell_type": "code",
      "execution_count": null,
      "metadata": {
        "execution": {
          "iopub.execute_input": "2021-11-07T07:11:10.861648Z",
          "iopub.status.busy": "2021-11-07T07:11:10.860223Z",
          "iopub.status.idle": "2021-11-07T07:11:10.864736Z",
          "shell.execute_reply": "2021-11-07T07:11:10.864246Z",
          "shell.execute_reply.started": "2021-11-07T06:12:12.797639Z"
        },
        "id": "yl1QRFujnTsb",
        "papermill": {
          "duration": 0.145603,
          "end_time": "2021-11-07T07:11:10.864867",
          "exception": false,
          "start_time": "2021-11-07T07:11:10.719264",
          "status": "completed"
        },
        "tags": []
      },
      "outputs": [],
      "source": [
        "def build_model(kernel_s=(3,3)):\n",
        "    model = tf.keras.models.Sequential([\n",
        "        tf.keras.layers.Conv2D(32,kernel_s,activation='relu',input_shape=(200,200,3),\n",
        "                            kernel_regularizer=tf.keras.regularizers.l2(0.001),padding=\"VALID\"),\n",
        "        tf.keras.layers.MaxPooling2D((2,2)),\n",
        "        tf.keras.layers.Conv2D(64,kernel_s,activation='relu'),\n",
        "        tf.keras.layers.MaxPooling2D((2,2)),\n",
        "        tf.keras.layers.Conv2D(64,kernel_s,activation='relu'),\n",
        "        tf.keras.layers.MaxPooling2D((2,2)),\n",
        "        tf.keras.layers.Conv2D(128,kernel_s,activation='relu'),\n",
        "        tf.keras.layers.MaxPooling2D((2,2)),\n",
        "        tf.keras.layers.Conv2D(128,kernel_s,activation='relu'),\n",
        "        tf.keras.layers.MaxPooling2D((2,2)),\n",
        "        tf.keras.layers.Flatten(),\n",
        "        tf.keras.layers.Dense(256, activation='relu', \n",
        "                              kernel_regularizer=tf.keras.regularizers.l2(5e-4)),\n",
        "        tf.keras.layers.Dense(1, activation='sigmoid')\n",
        "    ])\n",
        "    model.compile(loss=\"binary_crossentropy\", optimizer=\"adam\", metrics=['accuracy'])\n",
        "    return model"
      ]
    },
    {
      "cell_type": "markdown",
      "metadata": {
        "id": "BM6GtjlYnTsb",
        "papermill": {
          "duration": 0.136718,
          "end_time": "2021-11-07T07:11:11.132623",
          "exception": false,
          "start_time": "2021-11-07T07:11:10.995905",
          "status": "completed"
        },
        "tags": []
      },
      "source": [
        "**Tensorflow Data**\n",
        "\n",
        "Load data gambar menggunakan `Tensorflow Data` agar pada saat pelatihan model penggunaan memmori dapat lebih optimal"
      ]
    },
    {
      "cell_type": "code",
      "execution_count": null,
      "metadata": {
        "execution": {
          "iopub.execute_input": "2021-11-07T07:11:11.414322Z",
          "iopub.status.busy": "2021-11-07T07:11:11.413681Z",
          "iopub.status.idle": "2021-11-07T07:11:11.417664Z",
          "shell.execute_reply": "2021-11-07T07:11:11.417227Z",
          "shell.execute_reply.started": "2021-11-07T06:12:12.814063Z"
        },
        "id": "rcimTYwYnTsc",
        "papermill": {
          "duration": 0.143969,
          "end_time": "2021-11-07T07:11:11.417785",
          "exception": false,
          "start_time": "2021-11-07T07:11:11.273816",
          "status": "completed"
        },
        "tags": []
      },
      "outputs": [],
      "source": [
        "def decode_image(filename, label=None, image_size=SIZE):\n",
        "    \"\"\"\n",
        "    Decode Image from String Path Tensor\n",
        "    \"\"\"\n",
        "    bits = tf.io.read_file(filename)\n",
        "    image = tf.image.decode_jpeg(bits, channels=3)\n",
        "    image = tf.cast(image, tf.float32) / 255.0\n",
        "    image = tf.image.resize(image, SIZE)\n",
        "\n",
        "    if label is None: # if test\n",
        "        return image\n",
        "    else:\n",
        "        return image, label"
      ]
    },
    {
      "cell_type": "markdown",
      "metadata": {
        "id": "kbciBa3nnTsc",
        "papermill": {
          "duration": 0.132009,
          "end_time": "2021-11-07T07:11:11.680343",
          "exception": false,
          "start_time": "2021-11-07T07:11:11.548334",
          "status": "completed"
        },
        "tags": []
      },
      "source": [
        "**Training Model**\n",
        "\n",
        "Proses ini dilakukan dengan mensplit data menggunakan `StratifiedKFold` sebanyak 5 split lalu untuk setiap split akan dibangun sebuah model untuk dilatih. Setiap model ini akan digunakan untuk melakukan peramalan terhadap data test. Pada proses trainingnya setiap model akan diukur tingkat kebaikannya dengan menggunakan metric `accuracy` lalu dikakukan penyimpanan weight pada model saat `val_accuracy` berada pada nilai terbesar selama pelatihan model sebanyak `50 epochs`."
      ]
    },
    {
      "cell_type": "code",
      "execution_count": null,
      "metadata": {
        "colab": {
          "base_uri": "https://localhost:8080/"
        },
        "execution": {
          "iopub.execute_input": "2021-11-07T07:11:11.958316Z",
          "iopub.status.busy": "2021-11-07T07:11:11.952800Z",
          "iopub.status.idle": "2021-11-07T07:39:44.915989Z",
          "shell.execute_reply": "2021-11-07T07:39:44.912785Z",
          "shell.execute_reply.started": "2021-11-07T06:12:12.823148Z"
        },
        "id": "W7M7gwgJnTsc",
        "outputId": "b42cf09e-ca24-43b5-c311-f14e873937a2",
        "papermill": {
          "duration": 1713.1043,
          "end_time": "2021-11-07T07:39:44.916135",
          "exception": false,
          "start_time": "2021-11-07T07:11:11.811835",
          "status": "completed"
        },
        "tags": []
      },
      "outputs": [],
      "source": [
        "split = 5\r\n",
        "prediksi = np.zeros((len(new_test_images), 1), dtype=np.float32)\r\n",
        "acc_scores, f1_scores = [], []\r\n",
        "\r\n",
        "test_dataset = (\r\n",
        "    tf.data.Dataset\r\n",
        "    .from_tensor_slices((new_test_images))\r\n",
        "    .map(decode_image)\r\n",
        "    .batch(BATCH_SIZE)\r\n",
        ")\r\n",
        "\r\n",
        "cv = StratifiedKFold(n_splits=split, shuffle=True, random_state=SEED)\r\n",
        "for i, (train_index, test_index) in enumerate(cv.split(new_images, new_labels)):\r\n",
        "    tf.keras.backend.clear_session()\r\n",
        "    x_train, x_valid = new_images[train_index], new_images[test_index]\r\n",
        "    y_train, y_valid = new_labels[train_index], new_labels[test_index]\r\n",
        "\r\n",
        "    train_dataset = (\r\n",
        "        tf.data.Dataset\r\n",
        "        .from_tensor_slices((x_train, y_train))\r\n",
        "        .map(decode_image, num_parallel_calls=tf.data.AUTOTUNE)\r\n",
        "        .cache()\r\n",
        "        .repeat()\r\n",
        "        .shuffle(1024)\r\n",
        "        .batch(BATCH_SIZE)\r\n",
        "        .prefetch(tf.data.AUTOTUNE)\r\n",
        "    )\r\n",
        "    \r\n",
        "    valid_dataset = (\r\n",
        "        tf.data.Dataset\r\n",
        "        .from_tensor_slices((x_valid, y_valid))\r\n",
        "        .map(decode_image, num_parallel_calls=tf.data.AUTOTUNE)\r\n",
        "        .batch(BATCH_SIZE)\r\n",
        "        .cache()\r\n",
        "        .prefetch(tf.data.AUTOTUNE)\r\n",
        "    )\r\n",
        "\r\n",
        "    model = build_model()\r\n",
        "    checkpoint = tf.keras.callbacks.ModelCheckpoint(f'{i}_best_model.h5', monitor='val_accuracy', \r\n",
        "                                                save_best_only=True, save_weights_only=True, \r\n",
        "                                                mode='max')\r\n",
        "    print(f\"\\nCV {i+1}\")\r\n",
        "    model.fit(train_dataset, epochs=50, validation_data=valid_dataset, \r\n",
        "              steps_per_epoch=len(x_train) // BATCH_SIZE,\r\n",
        "              callbacks = [checkpoint])\r\n",
        "    model.load_weights(f'{i}_best_model.h5')\r\n",
        "    val_pred_classes = np.array(model.predict(valid_dataset).flatten() >= .5, dtype = 'int')\r\n",
        "    acc, f1 = accuracy_score(y_valid, val_pred_classes), f1_score(y_valid, val_pred_classes)\r\n",
        "\r\n",
        "    acc_scores.append(acc)\r\n",
        "    f1_scores.append(f1)\r\n",
        "    prediksi += model.predict(test_dataset)\r\n",
        "\r\n",
        "    del train_dataset\r\n",
        "    del valid_dataset"
      ]
    },
    {
      "cell_type": "markdown",
      "metadata": {
        "id": "JbJ6nbt5nTsc",
        "papermill": {
          "duration": 6.547757,
          "end_time": "2021-11-07T07:39:57.770147",
          "exception": false,
          "start_time": "2021-11-07T07:39:51.222390",
          "status": "completed"
        },
        "tags": []
      },
      "source": [
        "## Evaluasi Model\n",
        "\n",
        "Melihat kualitas model pada setiap split terhadap data validasi dengan `akurasi` dan `f1-score`nya"
      ]
    },
    {
      "cell_type": "code",
      "execution_count": null,
      "metadata": {
        "colab": {
          "base_uri": "https://localhost:8080/"
        },
        "execution": {
          "iopub.execute_input": "2021-11-07T07:40:11.105653Z",
          "iopub.status.busy": "2021-11-07T07:40:11.104780Z",
          "iopub.status.idle": "2021-11-07T07:40:11.107859Z",
          "shell.execute_reply": "2021-11-07T07:40:11.108368Z",
          "shell.execute_reply.started": "2021-11-07T06:39:53.873999Z"
        },
        "id": "9eV_UcCtnTsc",
        "outputId": "3a23bde9-75d7-45de-e44e-69398a1d94ba",
        "papermill": {
          "duration": 6.990785,
          "end_time": "2021-11-07T07:40:11.108508",
          "exception": false,
          "start_time": "2021-11-07T07:40:04.117723",
          "status": "completed"
        },
        "tags": []
      },
      "outputs": [],
      "source": [
        "for i in range(split):\n",
        "    print(f\"Split {i + 1} : {acc_scores[i]} acc - {f1_scores[i]} f1\")\n",
        "    \n",
        "print(\"\\nMean Acc\", sum(acc_scores) / split)\n",
        "print(\"Mean F1 \", sum(f1_scores) / split)"
      ]
    },
    {
      "cell_type": "markdown",
      "metadata": {
        "id": "Pgh_tRLYnTsc",
        "papermill": {
          "duration": 6.424558,
          "end_time": "2021-11-07T07:40:24.030623",
          "exception": false,
          "start_time": "2021-11-07T07:40:17.606065",
          "status": "completed"
        },
        "tags": []
      },
      "source": [
        "## Membuat Submission\n",
        "\n",
        "Membuat submission"
      ]
    },
    {
      "cell_type": "code",
      "execution_count": null,
      "metadata": {
        "colab": {
          "base_uri": "https://localhost:8080/",
          "height": 203
        },
        "execution": {
          "iopub.execute_input": "2021-11-07T07:40:36.890452Z",
          "iopub.status.busy": "2021-11-07T07:40:36.887018Z",
          "iopub.status.idle": "2021-11-07T07:40:36.904307Z",
          "shell.execute_reply": "2021-11-07T07:40:36.904740Z",
          "shell.execute_reply.started": "2021-11-07T06:39:53.883149Z"
        },
        "id": "rvDNTNGnnTsc",
        "outputId": "517d95fa-249a-438a-e215-25f8fdae7904",
        "papermill": {
          "duration": 6.324649,
          "end_time": "2021-11-07T07:40:36.904914",
          "exception": false,
          "start_time": "2021-11-07T07:40:30.580265",
          "status": "completed"
        },
        "tags": []
      },
      "outputs": [],
      "source": [
        "submission = pd.DataFrame({'id' : [x.split('/')[-1].split('.')[0] for x in new_test_images],\n",
        "                           'jenis kelamin': np.array((prediksi / split).flatten() >= .5, dtype = 'int')})\n",
        "test = test.merge(submission, on=\"id\")\n",
        "test.head()"
      ]
    },
    {
      "cell_type": "markdown",
      "metadata": {
        "id": "iT0BPSGVnTsd"
      },
      "source": [
        "**Melihat distribusi hasil prediksi**"
      ]
    },
    {
      "cell_type": "code",
      "execution_count": null,
      "metadata": {
        "colab": {
          "base_uri": "https://localhost:8080/",
          "height": 339
        },
        "id": "0mr2osuNnTsd",
        "outputId": "f1bb3225-bedd-4539-9d12-68f9a523ebe0"
      },
      "outputs": [],
      "source": [
        "plt.figure(figsize=(5, 5))\n",
        "sns.countplot(x=test[\"jenis kelamin\"])\n",
        "plt.xlabel(\"Jenis Kelamin\", fontsize=16)\n",
        "plt.show()"
      ]
    },
    {
      "cell_type": "markdown",
      "metadata": {
        "id": "hffxhVpEnTsd",
        "papermill": {
          "duration": 6.327193,
          "end_time": "2021-11-07T07:40:50.208853",
          "exception": false,
          "start_time": "2021-11-07T07:40:43.881660",
          "status": "completed"
        },
        "tags": []
      },
      "source": [
        "**Export csv**"
      ]
    },
    {
      "cell_type": "code",
      "execution_count": null,
      "metadata": {
        "execution": {
          "iopub.execute_input": "2021-11-07T07:41:03.384695Z",
          "iopub.status.busy": "2021-11-07T07:41:03.383866Z",
          "iopub.status.idle": "2021-11-07T07:41:03.393108Z",
          "shell.execute_reply": "2021-11-07T07:41:03.392645Z",
          "shell.execute_reply.started": "2021-11-07T06:39:53.917545Z"
        },
        "id": "ACWlL_-jnTsd",
        "papermill": {
          "duration": 6.632491,
          "end_time": "2021-11-07T07:41:03.393234",
          "exception": false,
          "start_time": "2021-11-07T07:40:56.760743",
          "status": "completed"
        },
        "tags": []
      },
      "outputs": [],
      "source": [
        "test.to_csv(\"submission-gender.csv\", index=False)"
      ]
    }
  ],
  "metadata": {
    "accelerator": "GPU",
    "colab": {
      "name": "[GENDER] BDC - 2021.ipynb",
      "provenance": []
    },
    "interpreter": {
      "hash": "b5c2f9982651e6679fa9a68d4ecb0e0e8c17f3b7df4d9abcf37d6df8a7589c17"
    },
    "kernelspec": {
      "display_name": "Python 3.8.7 64-bit",
      "name": "python3"
    },
    "language_info": {
      "name": "python",
      "version": ""
    },
    "papermill": {
      "default_parameters": {},
      "duration": 1871.585806,
      "end_time": "2021-11-07T07:41:14.019361",
      "environment_variables": {},
      "exception": null,
      "input_path": "__notebook__.ipynb",
      "output_path": "__notebook__.ipynb",
      "parameters": {},
      "start_time": "2021-11-07T07:10:02.433555",
      "version": "2.3.3"
    }
  },
  "nbformat": 4,
  "nbformat_minor": 5
}