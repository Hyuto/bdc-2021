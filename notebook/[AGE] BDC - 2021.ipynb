{
  "cells": [
    {
      "cell_type": "markdown",
      "metadata": {
        "id": "ePGxBLB9QKYh"
      },
      "source": [
        "# BDC - Satria Data 2021\r\n",
        "\r\n",
        "Task : Age Detection\r\n",
        "\r\n",
        "## Authors\r\n",
        "\r\n",
        "1. Muhammad Amanda\r\n",
        "2. Naufal Zhafran A.\r\n",
        "3. Wahyu Setianto\r\n",
        "\r\n",
        "## Running On\r\n",
        "\r\n",
        "| Environtment | Keterangan | Link |\r\n",
        "| ------------ | ---------- | ---- |\r\n",
        "| Kaggle       | **Main Environtment** menggunakan GPU NVIDIA TESLA P100 GPU's | [![kaggle](https://img.shields.io/badge/%20-Kaggle-blue?logo=kaggle)](https://www.kaggle.com/wahyusetianto/age-bdc-2021) |\r\n",
        "| Colab        | **Secondary**  menggunakan GPU NVIDIA TESLA K80's | [![colab](https://colab.research.google.com/assets/colab-badge.svg)](https://colab.research.google.com/github/Hyuto/bdc-2021/blob/master/notebook/%5BAGE%5D%20BDC%202021.ipynb) |"
      ]
    },
    {
      "cell_type": "markdown",
      "metadata": {
        "id": "9iJot1OqQKYl"
      },
      "source": [
        "## First Thing First\n",
        "\n",
        "Menginstall library yang diperlukan dan mengimport library - library yang akan digunakan serta menseting variable config yang akan digunakan di dalam notebook ini."
      ]
    },
    {
      "cell_type": "markdown",
      "metadata": {
        "id": "wltkXah8QKYm"
      },
      "source": [
        "1. Menginstal library `MTCNN` dan `Albumentations`\r\n",
        "   \r\n",
        "   Library `MTCNN` dan `Albumentations` adalah library yang digunakan untuk preprocessing data gambar pada notebook ini"
      ]
    },
    {
      "cell_type": "code",
      "execution_count": null,
      "metadata": {
        "colab": {
          "base_uri": "https://localhost:8080/"
        },
        "execution": {
          "iopub.execute_input": "2021-11-04T15:20:06.608843Z",
          "iopub.status.busy": "2021-11-04T15:20:06.608651Z",
          "iopub.status.idle": "2021-11-04T15:20:16.456840Z",
          "shell.execute_reply": "2021-11-04T15:20:16.455960Z",
          "shell.execute_reply.started": "2021-11-04T15:20:06.608821Z"
        },
        "id": "3419HRmoQKYm",
        "outputId": "fc9e07cc-ee01-43a7-c4f8-577d8cc31f22",
        "trusted": true
      },
      "outputs": [],
      "source": [
        "!pip -q install mtcnn --upgrade\r\n",
        "!pip -q install albumentations --upgrade\r\n",
        "!pip -q install opencv-python-headless==4.1.2.30"
      ]
    },
    {
      "cell_type": "markdown",
      "metadata": {
        "id": "SiPyUlKSQKYo"
      },
      "source": [
        "2. Importing library\r\n",
        "   \r\n",
        "   Mengimport library yang akan digunakan dalam notebook ini."
      ]
    },
    {
      "cell_type": "code",
      "execution_count": null,
      "metadata": {
        "_cell_guid": "b1076dfc-b9ad-4769-8c92-a6c4dae69d19",
        "_uuid": "8f2839f25d086af736a60e9eeb907d3b93b6e0e5",
        "colab": {
          "base_uri": "https://localhost:8080/"
        },
        "execution": {
          "iopub.execute_input": "2021-11-04T15:20:16.460547Z",
          "iopub.status.busy": "2021-11-04T15:20:16.460255Z",
          "iopub.status.idle": "2021-11-04T15:20:23.151980Z",
          "shell.execute_reply": "2021-11-04T15:20:23.150266Z",
          "shell.execute_reply.started": "2021-11-04T15:20:16.460515Z"
        },
        "id": "r13OQSrUQKYo",
        "outputId": "5cc80066-94a5-46d0-8ee4-ed79bd8486f6",
        "trusted": true
      },
      "outputs": [],
      "source": [
        "# Umum\r\n",
        "import os, random, re\r\n",
        "from tqdm.notebook import tqdm\r\n",
        "import numpy as np\r\n",
        "import pandas as pd\r\n",
        "\r\n",
        "# Tensorflow\r\n",
        "import tensorflow as tf\r\n",
        "from tensorflow.keras.preprocessing.image import load_img, img_to_array\r\n",
        "\r\n",
        "# Metrics & Splitting data\r\n",
        "from sklearn.metrics import *\r\n",
        "from sklearn.model_selection import *\r\n",
        "\r\n",
        "# Plotting\r\n",
        "import matplotlib.pyplot as plt\r\n",
        "import seaborn as sns\r\n",
        "\r\n",
        "# Preprocessing\r\n",
        "import cv2\r\n",
        "import albumentations as A\r\n",
        "from mtcnn import MTCNN\r\n",
        "from PIL import Image\r\n",
        "\r\n",
        "print(\"Tensorflow :\", tf.__version__)"
      ]
    },
    {
      "cell_type": "markdown",
      "metadata": {
        "id": "7B6PE_NMQKYp"
      },
      "source": [
        "3. Setup `CONFIG`\r\n",
        "   \r\n",
        "   Mensetup varible - variable yang digunakan sebagai config pada notebook ini"
      ]
    },
    {
      "cell_type": "code",
      "execution_count": null,
      "metadata": {
        "execution": {
          "iopub.execute_input": "2021-11-04T15:20:23.153530Z",
          "iopub.status.busy": "2021-11-04T15:20:23.153277Z",
          "iopub.status.idle": "2021-11-04T15:20:25.893147Z",
          "shell.execute_reply": "2021-11-04T15:20:25.892442Z",
          "shell.execute_reply.started": "2021-11-04T15:20:23.153500Z"
        },
        "id": "dMn32QJVQKYp",
        "trusted": true
      },
      "outputs": [],
      "source": [
        "# Global var\r\n",
        "SEED = 2021\r\n",
        "SIZE = (200, 200)\r\n",
        "BATCH_SIZE = 32\r\n",
        "FACE_THRESHOLD = 0.95\r\n",
        "FACE_DETECTOR = MTCNN()"
      ]
    },
    {
      "cell_type": "markdown",
      "metadata": {
        "id": "t4thCUnrQKYq"
      },
      "source": [
        "## Dataset\r\n",
        "\r\n",
        "Mendownload dataset hasil preprocessing tim kami dan Load dataset yang mengandung informasi `path` dari data gambar.\r\n",
        "\r\n",
        "1. Mendownload dataset hasil preprocessing tim `SD20210000722` dari [repository Github](https://github.com/Hyuto/bdc-2021)\r\n",
        "   \r\n",
        "   **Note** : Pastikan `git` telah terinstall"
      ]
    },
    {
      "cell_type": "code",
      "execution_count": null,
      "metadata": {},
      "outputs": [],
      "source": [
        "!git clone https://github.com/Hyuto/bdc-2021.git"
      ]
    },
    {
      "cell_type": "markdown",
      "metadata": {},
      "source": [
        "Extract preprocess & augmented data"
      ]
    },
    {
      "cell_type": "code",
      "execution_count": null,
      "metadata": {
        "colab": {
          "base_uri": "https://localhost:8080/",
          "height": 49,
          "referenced_widgets": [
            "226dd6c91c994388a00b830cd0f9af78",
            "0c81596bbdfe4501aa04f0c262c6969d",
            "33e8ebe614344dd792833b53fc38514b",
            "787a0296945744d09b373007a7acc3d9",
            "68a29babfa4d4441be6e9c58f5fdc4b2",
            "b094e4ef509c43349757f6ceaac6ecb0",
            "2de8cc0ea6b74fd9b04886ea384303b5",
            "d652ff3858674198ab9a18c8325509da",
            "f5709c8c3018451eb5f6772251f89747",
            "8548af20139945edb0a3f7e8938e1c54",
            "6cfc29478d50424597d68dc430c363b0"
          ]
        },
        "id": "7YFo-qAqQKYr",
        "outputId": "6ce15eed-bda6-43a2-b77c-70b8fe42b2b1"
      },
      "outputs": [],
      "source": [
        "import zipfile\r\n",
        "\r\n",
        "MAIN_DIR = os.path.join(\".\", \"bdc-2021\")\r\n",
        "DATA_DIR = os.path.join(MAIN_DIR, \"data\")\r\n",
        "\r\n",
        "with zipfile.ZipFile(os.path.join(DATA_DIR, \"preprocessed.zip\"), 'r') as zip_ref:\r\n",
        "    zip_ref.extractall(DATA_DIR)\r\n",
        "\r\n",
        "with zipfile.ZipFile(os.path.join(DATA_DIR, \"preprocessed-augmented.zip\"), 'r') as zip_ref:\r\n",
        "    zip_ref.extractall(DATA_DIR)"
      ]
    },
    {
      "cell_type": "markdown",
      "metadata": {},
      "source": [
        "2. Read Dataset\r\n",
        "   \r\n",
        "   Membaca data `csv` untuk mendapatkan informasi `path`, `jenis kelamin` dan `umur` dari data gambar"
      ]
    },
    {
      "cell_type": "code",
      "execution_count": null,
      "metadata": {
        "colab": {
          "base_uri": "https://localhost:8080/",
          "height": 203
        },
        "execution": {
          "iopub.execute_input": "2021-11-04T15:20:25.895433Z",
          "iopub.status.busy": "2021-11-04T15:20:25.895186Z",
          "iopub.status.idle": "2021-11-04T15:20:25.946872Z",
          "shell.execute_reply": "2021-11-04T15:20:25.946194Z",
          "shell.execute_reply.started": "2021-11-04T15:20:25.895399Z"
        },
        "id": "ieHnviU2QKYr",
        "outputId": "9b639180-1dc3-4d71-8208-93ee15d19606",
        "trusted": true
      },
      "outputs": [],
      "source": [
        "train = pd.read_csv(f\"{DATA_DIR}/train.csv\")\n",
        "test = pd.read_csv(f\"{DATA_DIR}/submission.csv\")\n",
        "train.head()"
      ]
    },
    {
      "cell_type": "markdown",
      "metadata": {
        "id": "4dqRIPbKQKYs"
      },
      "source": [
        "memperjelas `path` ke setiap data gambar"
      ]
    },
    {
      "cell_type": "code",
      "execution_count": null,
      "metadata": {
        "execution": {
          "iopub.execute_input": "2021-11-04T15:20:25.948508Z",
          "iopub.status.busy": "2021-11-04T15:20:25.948120Z",
          "iopub.status.idle": "2021-11-04T15:20:32.506728Z",
          "shell.execute_reply": "2021-11-04T15:20:32.505780Z",
          "shell.execute_reply.started": "2021-11-04T15:20:25.948473Z"
        },
        "id": "-YR9QSKhQKYs",
        "trusted": true
      },
      "outputs": [],
      "source": [
        "images = []\n",
        "labels = []\n",
        "ages = []\n",
        "test_images = []\n",
        "\n",
        "TRAIN_DIR = f\"{DATA_DIR}/Training\"\n",
        "TEST_DIR = f\"{DATA_DIR}/Testing\"\n",
        "\n",
        "for no, label, usia in train[[\"nomor\", \"jenis kelamin\", \"usia\"]].values:\n",
        "    TEMP_DIR = os.path.join(TRAIN_DIR, str(no))\n",
        "    for file in os.listdir(TEMP_DIR):\n",
        "        file_dir = os.path.join(TEMP_DIR, file)\n",
        "        if \".ini\" not in file_dir:\n",
        "            images.append(file_dir)\n",
        "            labels.append(label)\n",
        "            ages.append(usia)\n",
        "\n",
        "for no in test.id.values:\n",
        "    file_dir = os.path.join(TEST_DIR, f\"{no}.jpg\")\n",
        "    if os.path.isfile(file_dir):\n",
        "        test_images.append(file_dir)\n",
        "    else:\n",
        "        test_images.append(None)\n",
        "        print(file_dir)"
      ]
    },
    {
      "cell_type": "markdown",
      "metadata": {
        "id": "N27EejOsQKYt"
      },
      "source": [
        "menampilkan dan mengecek beberapa gambar pada data `train`"
      ]
    },
    {
      "cell_type": "code",
      "execution_count": null,
      "metadata": {
        "execution": {
          "iopub.execute_input": "2021-11-04T15:20:32.508924Z",
          "iopub.status.busy": "2021-11-04T15:20:32.508382Z",
          "iopub.status.idle": "2021-11-04T15:20:32.521173Z",
          "shell.execute_reply": "2021-11-04T15:20:32.520288Z",
          "shell.execute_reply.started": "2021-11-04T15:20:32.508884Z"
        },
        "id": "RtX9zgQaQKYt",
        "trusted": true
      },
      "outputs": [],
      "source": [
        "def read(path):\n",
        "    \"\"\"\n",
        "    Read data gambar\n",
        "    \"\"\"\n",
        "    img = Image.open(path)\n",
        "    return img\n",
        "\n",
        "def show_images(list_dir, label = None, age = None, load_image = read, seed = SEED):\n",
        "    \"\"\"\n",
        "    Menampilkan Gambar Secara acak sebanyak 5 buah.\n",
        "    \"\"\"\n",
        "    random.seed(seed)\n",
        "    unique = [\"init\"]\n",
        "    if label:\n",
        "        unique = list(set(label))\n",
        "    fig, axes = plt.subplots(len(unique), 5, figsize = (20, 5 * len(unique)))\n",
        "    for i in range(len(unique)):\n",
        "        if i == 0 and unique[i] == \"init\":\n",
        "            data = random.sample(list_dir, 5)\n",
        "        elif age != None:\n",
        "            data = random.sample([x for x in zip(list_dir, label, age) if x[1] == unique[i]], 5)\n",
        "        else:\n",
        "            data = random.sample([x for x in zip(list_dir, label) if x[1] == unique[i]], 5)\n",
        "        for j in range(5):\n",
        "            if unique[0] != \"init\":\n",
        "                img = load_image(data[j][0])\n",
        "                text = f'Label : {data[j][1]}'\n",
        "                if age != None:\n",
        "                    text += f'\\nAge : {data[j][2]}'\n",
        "                axes[i, j].imshow(img)\n",
        "                axes[i, j].set_title(text, fontsize = 14)\n",
        "                axes[i, j].axis('off')\n",
        "            else:\n",
        "                img = load_image(data[j])\n",
        "                axes[j].imshow(img)\n",
        "                axes[j].axis('off')\n",
        "    fig.tight_layout()\n",
        "    plt.show()"
      ]
    },
    {
      "cell_type": "code",
      "execution_count": null,
      "metadata": {
        "colab": {
          "base_uri": "https://localhost:8080/",
          "height": 733
        },
        "execution": {
          "iopub.execute_input": "2021-11-04T15:20:32.522813Z",
          "iopub.status.busy": "2021-11-04T15:20:32.522299Z",
          "iopub.status.idle": "2021-11-04T15:20:35.147735Z",
          "shell.execute_reply": "2021-11-04T15:20:35.146011Z",
          "shell.execute_reply.started": "2021-11-04T15:20:32.522746Z"
        },
        "id": "RzA3EFD5QKYt",
        "outputId": "1e8ce4fc-a330-4627-ef10-fef75655b326",
        "trusted": true
      },
      "outputs": [],
      "source": [
        "show_images(images, labels, ages, seed=20)"
      ]
    },
    {
      "cell_type": "markdown",
      "metadata": {
        "id": "tLN8TexOQKYu"
      },
      "source": [
        "## Preprocess Data\n",
        "\n",
        "Metode yang digunakan:\n",
        "\n",
        "1. Mengekstrak wajah - wajah yang terdapat pada gambar menjadi gambar - gambar baru dengan label yang sama dengan menggunakan model `MTCNN`\n",
        "2. Pada data test jika terdapat dua wajah yang terdeteksi pada satu gambar akan di ambil wajah dengan tingkat confidence terbesar yang diberikan oleh model `MTCNN`.\n",
        "3. Jika tidak terdetect wajah pada salah satu gambar maka akan dilakukan crop pada bagian tengah gambar sehingga gambar berbentuk persegi atau `jxj` pixel.\n",
        "4. Selanjutnya gambar akan di resize menjadi ukuran `256x256` pixel\n",
        "\n",
        "berikut adalah contoh hasil preprocess data gambar."
      ]
    },
    {
      "cell_type": "code",
      "execution_count": null,
      "metadata": {
        "execution": {
          "iopub.execute_input": "2021-11-04T15:20:35.149420Z",
          "iopub.status.busy": "2021-11-04T15:20:35.149062Z",
          "iopub.status.idle": "2021-11-04T15:20:35.161402Z",
          "shell.execute_reply": "2021-11-04T15:20:35.160799Z",
          "shell.execute_reply.started": "2021-11-04T15:20:35.149384Z"
        },
        "id": "jsXCsZDrQKYu",
        "trusted": true
      },
      "outputs": [],
      "source": [
        "def get_faces(path):\n",
        "    image = cv2.cvtColor(cv2.imread(path), cv2.COLOR_BGR2RGB)\n",
        "    faces = FACE_DETECTOR.detect_faces(image)\n",
        "    return faces\n",
        "\n",
        "def load_and_preprocess_image(path: str, size = SIZE):\n",
        "    \"\"\"\n",
        "    Load & Preprocess data gambar\n",
        "    \"\"\"\n",
        "    image = img_to_array(load_img(path))\n",
        "    faces = [x['box'] for x in get_faces(path) if x['confidence'] > FACE_THRESHOLD]\n",
        "    if len(faces) > 0:\n",
        "        x, y, w, h = faces[0]\n",
        "        image = image[y:y+h, x:x+w]\n",
        "    img = tf.convert_to_tensor(image, dtype=tf.float32)\n",
        "    if len(faces) == 0:\n",
        "        shapes = tf.shape(img)\n",
        "        h, w = shapes[-3], shapes[-2]\n",
        "        dim = tf.minimum(h, w)\n",
        "        img = tf.image.resize_with_crop_or_pad(img, dim, dim)\n",
        "    img = tf.image.resize(img, size)\n",
        "    img = tf.cast(img, tf.float32) / 255.0\n",
        "    return img.numpy()"
      ]
    },
    {
      "cell_type": "code",
      "execution_count": null,
      "metadata": {
        "colab": {
          "base_uri": "https://localhost:8080/",
          "height": 672
        },
        "execution": {
          "iopub.execute_input": "2021-11-04T15:20:35.163250Z",
          "iopub.status.busy": "2021-11-04T15:20:35.162826Z",
          "iopub.status.idle": "2021-11-04T15:20:52.232294Z",
          "shell.execute_reply": "2021-11-04T15:20:52.231658Z",
          "shell.execute_reply.started": "2021-11-04T15:20:35.163214Z"
        },
        "id": "mkh-9bPOQKYu",
        "outputId": "459d7783-15f1-497c-d643-a741727580a1",
        "trusted": true
      },
      "outputs": [],
      "source": [
        "show_images(images, labels, ages, load_image = load_and_preprocess_image, seed=20)"
      ]
    },
    {
      "cell_type": "markdown",
      "metadata": {
        "id": "BjWjL6DlQKYv"
      },
      "source": [
        "## Augmentasi Data\n",
        "\n",
        "Melakukan augmentasi untuk memperbanyak data. Metode augmentasi yang digunakan yaitu:\n",
        "\n",
        "1. Horizontal flip\n",
        "2. Donwscale kualitas gambar\n",
        "3. Random rotate dengan rentang -30 sampai 30 derajad\n",
        "4. Shift, scale, dan rotate gambar\n",
        "5. Blur\n",
        "6. Random brightness"
      ]
    },
    {
      "cell_type": "code",
      "execution_count": null,
      "metadata": {
        "execution": {
          "iopub.execute_input": "2021-11-04T15:20:52.235739Z",
          "iopub.status.busy": "2021-11-04T15:20:52.234924Z",
          "iopub.status.idle": "2021-11-04T15:20:52.245017Z",
          "shell.execute_reply": "2021-11-04T15:20:52.243486Z",
          "shell.execute_reply.started": "2021-11-04T15:20:52.235703Z"
        },
        "id": "G69wsipTQKYv",
        "trusted": true
      },
      "outputs": [],
      "source": [
        "aug = A.Compose([\n",
        "    A.HorizontalFlip(p=0.4),\n",
        "    A.Downscale(scale_min=0.6, scale_max=0.9, p=0.3),\n",
        "    A.Rotate(limit=(-30,30), p=0.6),\n",
        "    A.ShiftScaleRotate(shift_limit=(-0.07, 0.07), scale_limit=(-0.05, 0.1), rotate_limit=(-15, 15), p=0.4),\n",
        "    A.OneOf([\n",
        "        A.MotionBlur(p=.4),\n",
        "        A.MedianBlur(blur_limit=3, p=0.4),\n",
        "        A.Blur(blur_limit=3, p=0.4),\n",
        "    ], p=0.4),\n",
        "    A.RandomBrightnessContrast(brightness_limit=(-0.25, 0.15), p=0.4),\n",
        "])"
      ]
    },
    {
      "cell_type": "code",
      "execution_count": null,
      "metadata": {
        "execution": {
          "iopub.execute_input": "2021-11-04T15:20:52.246954Z",
          "iopub.status.busy": "2021-11-04T15:20:52.246660Z",
          "iopub.status.idle": "2021-11-04T15:20:52.262028Z",
          "shell.execute_reply": "2021-11-04T15:20:52.261174Z",
          "shell.execute_reply.started": "2021-11-04T15:20:52.246915Z"
        },
        "id": "4IOjMRe6QKYv",
        "trusted": true
      },
      "outputs": [],
      "source": [
        "def visualize_aug(path):\n",
        "    fig, axes = plt.subplots(1, 5, figsize = (20, 5))\n",
        "    image = load_and_preprocess_image(path)\n",
        "    axes[0].imshow(image)\n",
        "    axes[0].axis('off')\n",
        "    for i in range(1, 5):\n",
        "        augmented = aug(image=image)['image']\n",
        "        axes[i].imshow(augmented)\n",
        "        axes[i].axis('off')\n",
        "    fig.tight_layout()\n",
        "    plt.show()"
      ]
    },
    {
      "cell_type": "code",
      "execution_count": null,
      "metadata": {
        "colab": {
          "base_uri": "https://localhost:8080/",
          "height": 874
        },
        "execution": {
          "iopub.execute_input": "2021-11-04T15:20:52.263790Z",
          "iopub.status.busy": "2021-11-04T15:20:52.263542Z",
          "iopub.status.idle": "2021-11-04T15:20:56.587499Z",
          "shell.execute_reply": "2021-11-04T15:20:56.581526Z",
          "shell.execute_reply.started": "2021-11-04T15:20:52.263759Z"
        },
        "id": "8ORnmaxGQKYv",
        "outputId": "216018e3-9f82-413d-a40d-502c90e0479e",
        "trusted": true
      },
      "outputs": [],
      "source": [
        "random.seed(SEED)\n",
        "for i in range(3):\n",
        "    visualize_aug(images[i])"
      ]
    },
    {
      "cell_type": "markdown",
      "metadata": {
        "id": "wsealZnWQKYw"
      },
      "source": [
        "Running preprocessing pada data gambar secara keseluruhan"
      ]
    },
    {
      "cell_type": "code",
      "execution_count": null,
      "metadata": {
        "execution": {
          "iopub.execute_input": "2021-11-04T15:20:56.589588Z",
          "iopub.status.busy": "2021-11-04T15:20:56.589273Z",
          "iopub.status.idle": "2021-11-04T15:20:56.638792Z",
          "shell.execute_reply": "2021-11-04T15:20:56.633191Z",
          "shell.execute_reply.started": "2021-11-04T15:20:56.589547Z"
        },
        "id": "06XGqSr9QKYw",
        "trusted": true
      },
      "outputs": [],
      "source": [
        "import shutil\r\n",
        "\r\n",
        "def image_preprocessing(new_dir, images, labels=None, ages=None):\r\n",
        "    if os.path.isdir(new_dir):\r\n",
        "        shutil.rmtree(new_dir)\r\n",
        "    os.mkdir(new_dir)\r\n",
        "    \r\n",
        "    new_images, new_labels, new_ages = [], [], []\r\n",
        "    labels = [None for _ in range(len(images))] if not labels else labels\r\n",
        "    ages = [None for _ in range(len(images))] if not ages else ages\r\n",
        "    \r\n",
        "    for path, label, age in tqdm(zip(images, labels, ages), total=len(images)):\r\n",
        "        image = img_to_array(load_img(path))\r\n",
        "        if label != None:\r\n",
        "            faces = [x['box'] for x in sorted(get_faces(path), key=lambda x: x['confidence'], \r\n",
        "                                              reverse=True) if x['confidence'] > FACE_THRESHOLD]\r\n",
        "        else:\r\n",
        "            faces = [x['box'] for x in sorted(get_faces(path), key=lambda x: x['confidence'], reverse=True)]\r\n",
        "        if len(faces) > 0:\r\n",
        "            if label != None:\r\n",
        "                for j, (x, y, w, h) in enumerate(faces):\r\n",
        "                    img = image[y:y+h, x:x+w]\r\n",
        "                    img = tf.convert_to_tensor(img, dtype=tf.float32)\r\n",
        "                    img = tf.image.resize(img, SIZE)\r\n",
        "                    img = tf.cast(img, tf.float32) / 255.0\r\n",
        "\r\n",
        "                    img_dir = os.path.join(new_dir, f'{j}_{path.split(\"/\")[-1]}')\r\n",
        "                    new_images.append(img_dir)\r\n",
        "                    new_labels.append(label)\r\n",
        "                    if age != None:\r\n",
        "                        new_ages.append(age)\r\n",
        "                    tf.keras.preprocessing.image.save_img(img_dir, img)\r\n",
        "                    \r\n",
        "                    for k in range(3):\r\n",
        "                        augmented = aug(image=img.numpy())['image']\r\n",
        "                        img_dir = os.path.join(new_dir, f'aug-{k}_{j}_{path.split(\"/\")[-1]}')\r\n",
        "                        new_images.append(img_dir)\r\n",
        "                        new_labels.append(label)\r\n",
        "                        if age != None:\r\n",
        "                            new_ages.append(age)\r\n",
        "                        tf.keras.preprocessing.image.save_img(img_dir, augmented)\r\n",
        "                        \r\n",
        "            else:\r\n",
        "                x, y, w, h = faces[0]\r\n",
        "                img = image[y:y+h, x:x+w]\r\n",
        "                img = tf.convert_to_tensor(img, dtype=tf.float32)\r\n",
        "                img = tf.image.resize(img, SIZE)\r\n",
        "                img = tf.cast(img, tf.float32) / 255.0\r\n",
        "            \r\n",
        "                img_dir = os.path.join(new_dir, path.split('/')[-1])\r\n",
        "                new_images.append(img_dir)\r\n",
        "                tf.keras.preprocessing.image.save_img(img_dir, img)\r\n",
        "                \r\n",
        "        else :\r\n",
        "            img = tf.convert_to_tensor(image, dtype=tf.float32)\r\n",
        "            shapes = tf.shape(img)\r\n",
        "            h, w = shapes[-3], shapes[-2]\r\n",
        "            dim = tf.minimum(h, w)\r\n",
        "            img = tf.image.resize_with_crop_or_pad(img, dim, dim)\r\n",
        "            img = tf.image.resize(img, SIZE)\r\n",
        "            img = tf.cast(img, tf.float32) / 255.0\r\n",
        "\r\n",
        "            img_dir = os.path.join(new_dir, path.split('/')[-1])\r\n",
        "            new_images.append(img_dir)\r\n",
        "            new_labels.append(label)\r\n",
        "            if age != None:\r\n",
        "                new_ages.append(age)\r\n",
        "            tf.keras.preprocessing.image.save_img(img_dir, img)\r\n",
        "            \r\n",
        "            if label != None:\r\n",
        "                for k in range(3):\r\n",
        "                    augmented = aug(image=img.numpy())['image']\r\n",
        "                    img_dir = os.path.join(new_dir,  f'aug-{k}_{path.split(\"/\")[-1]}')\r\n",
        "                    new_images.append(img_dir)\r\n",
        "                    new_labels.append(label)\r\n",
        "                    if age != None:\r\n",
        "                        new_ages.append(age)\r\n",
        "                    tf.keras.preprocessing.image.save_img(img_dir, augmented)\r\n",
        "    \r\n",
        "    return new_images, new_labels, new_ages"
      ]
    },
    {
      "cell_type": "markdown",
      "metadata": {
        "id": "XAO3G3aRQKYw"
      },
      "source": [
        "Untuk menghemat waktu running akan di skip bagian ini dan di ganti dengan meload data hasil preprocess yang sudah di save pada run sebelumnya. Namun jika ingin melakukan preprocess pada run sekarang maka uncomment code di bawah ini.\n",
        "\n",
        "**Peringatan** : running block code di bawah memakan waktu sekitar 50 menit dengan GPU Nvidia Tesla P100-PCIE."
      ]
    },
    {
      "cell_type": "code",
      "execution_count": null,
      "metadata": {
        "execution": {
          "iopub.execute_input": "2021-11-04T15:20:56.641150Z",
          "iopub.status.busy": "2021-11-04T15:20:56.640797Z",
          "iopub.status.idle": "2021-11-04T15:20:56.656828Z",
          "shell.execute_reply": "2021-11-04T15:20:56.653113Z",
          "shell.execute_reply.started": "2021-11-04T15:20:56.641075Z"
        },
        "id": "xcZRj5tfQKYw",
        "trusted": true
      },
      "outputs": [],
      "source": [
        "# preprocessed_dir = \".\"\r\n",
        "# new_train_dir = \"./train\"\r\n",
        "# new_test_dir = \"./test\"\r\n",
        "\r\n",
        "# random.seed(SEED)\r\n",
        "# new_images, new_labels = image_preprocessing(new_train_dir, images, labels, ages)\r\n",
        "# new_test_images, _ = image_preprocessing(new_test_dir, test_images)\r\n",
        "\r\n",
        "# preprocessed = pd.DataFrame({\"image\": new_images, \"label\": new_labels, \"age\": new_ages})\r\n",
        "# preprocessed.head()"
      ]
    },
    {
      "cell_type": "markdown",
      "metadata": {
        "id": "KMP_2R9zQKYx"
      },
      "source": [
        "**Note** : Comment kode block di bawah jika melakukan preprocess pada run saat ini."
      ]
    },
    {
      "cell_type": "code",
      "execution_count": null,
      "metadata": {
        "colab": {
          "base_uri": "https://localhost:8080/",
          "height": 203
        },
        "execution": {
          "iopub.execute_input": "2021-11-04T15:20:56.658839Z",
          "iopub.status.busy": "2021-11-04T15:20:56.658507Z",
          "iopub.status.idle": "2021-11-04T15:20:56.711449Z",
          "shell.execute_reply": "2021-11-04T15:20:56.710596Z",
          "shell.execute_reply.started": "2021-11-04T15:20:56.658804Z"
        },
        "id": "FJklbpxRQKYx",
        "outputId": "72ba19e7-3a20-4e06-c2aa-089cff2b6db4",
        "trusted": true
      },
      "outputs": [],
      "source": [
        "preprocessed_dir = os.path.join(DATA_DIR, 'preprocessed-augmented')\r\n",
        "preprocessed = pd.read_csv(f\"{preprocessed_dir}/preprocessed.csv\")\r\n",
        "preprocessed.head()"
      ]
    },
    {
      "cell_type": "markdown",
      "metadata": {
        "id": "IAeJyHUXR6va"
      },
      "source": [
        "## Filterisasi Data\r\n",
        "\r\n",
        "Menyaring data yang akan dilatih ke dalam model dengan melakukan filterisasi terhadap data gambar yang memiliki kualitas gambar yang kurang baik dan misslabel."
      ]
    },
    {
      "cell_type": "code",
      "execution_count": null,
      "metadata": {
        "colab": {
          "base_uri": "https://localhost:8080/",
          "height": 49,
          "referenced_widgets": [
            "70524a9b34b24e38b0eb58488021e879",
            "e667f2be70424a0f85d3767a1443a242",
            "3093e07242244b5aad4efe3bffab0dc5",
            "f2dcecf4c77c46b9a37ea97fee90ccf2",
            "facf89c865ae4ef8b9a3d765734b1794",
            "2527df5ab3294d529f61d84c053882f4",
            "3d2d4c9a81374adf987e103c858ad8e0",
            "962a0a1cbafe4340a3f8382356fc071d",
            "14b1db466d1748c0b9725c76239d044d",
            "2daa22899f034f3b965d92db1658def8",
            "408b4e0b3d41445c817c2fa9d7b13ea8"
          ]
        },
        "execution": {
          "iopub.execute_input": "2021-11-04T15:20:56.716353Z",
          "iopub.status.busy": "2021-11-04T15:20:56.715943Z",
          "iopub.status.idle": "2021-11-04T15:20:57.909906Z",
          "shell.execute_reply": "2021-11-04T15:20:57.909010Z",
          "shell.execute_reply.started": "2021-11-04T15:20:56.716314Z"
        },
        "id": "u2cjCrV8QKYx",
        "outputId": "bd71c922-8732-4239-ab53-67f2164abaec",
        "trusted": true
      },
      "outputs": [],
      "source": [
        "with open(f\"{MAIN_DIR}/excluded-gender.txt\") as f:\r\n",
        "    excluded = [x for x in f.read().split(\"\\n\") if x != '']\r\n",
        "    \r\n",
        "patterns = fr'{\"|\".join(excluded)}'"
      ]
    },
    {
      "cell_type": "markdown",
      "metadata": {
        "id": "ZPp75X1-SwAo"
      },
      "source": [
        "**Filtering**"
      ]
    },
    {
      "cell_type": "code",
      "execution_count": null,
      "metadata": {
        "execution": {
          "iopub.execute_input": "2021-11-04T15:20:57.912769Z",
          "iopub.status.busy": "2021-11-04T15:20:57.911315Z",
          "iopub.status.idle": "2021-11-04T15:20:58.376669Z",
          "shell.execute_reply": "2021-11-04T15:20:58.375970Z",
          "shell.execute_reply.started": "2021-11-04T15:20:57.912728Z"
        },
        "id": "quoUhCBIQKYx",
        "trusted": true
      },
      "outputs": [],
      "source": [
        "new_images, new_labels, new_ages = [], [], []\r\n",
        "\r\n",
        "for image, label, age in preprocessed[[\"image\", \"label\", \"age\"]].values:\r\n",
        "    if not re.search(patterns, image):\r\n",
        "        new_images.append(os.path.join(preprocessed_dir, image))\r\n",
        "        new_labels.append(label)\r\n",
        "        new_ages.append(age)\r\n",
        "\r\n",
        "new_test_images = np.asarray([os.path.join(preprocessed_dir, \"test\", f\"{x}.jpg\") for x in test.id.values])\r\n",
        "\r\n",
        "new_images = np.asarray(new_images)\r\n",
        "new_labels = np.asarray(new_labels)\r\n",
        "new_ages = np.asarray(new_ages)"
      ]
    },
    {
      "cell_type": "markdown",
      "metadata": {
        "id": "UD55WPZ3QKYx"
      },
      "source": [
        "Mengecek distribusi label pada data"
      ]
    },
    {
      "cell_type": "code",
      "execution_count": null,
      "metadata": {
        "colab": {
          "base_uri": "https://localhost:8080/",
          "height": 339
        },
        "execution": {
          "iopub.execute_input": "2021-11-04T15:20:58.378953Z",
          "iopub.status.busy": "2021-11-04T15:20:58.378412Z",
          "iopub.status.idle": "2021-11-04T15:20:58.781149Z",
          "shell.execute_reply": "2021-11-04T15:20:58.780397Z",
          "shell.execute_reply.started": "2021-11-04T15:20:58.378913Z"
        },
        "id": "Js12Ms2IQKYx",
        "outputId": "fcf78c52-dcae-4a6d-d334-a036d4535410",
        "trusted": true
      },
      "outputs": [],
      "source": [
        "plt.figure(figsize=(10, 5))\n",
        "sns.countplot(x=new_ages)\n",
        "plt.xlabel(\"Umur\", fontsize=16)\n",
        "plt.show()"
      ]
    },
    {
      "cell_type": "markdown",
      "metadata": {
        "id": "rwxzILvSQKYy"
      },
      "source": [
        "Jumlah data yang berlabel `0` dan `1` cenderung sama."
      ]
    },
    {
      "cell_type": "markdown",
      "metadata": {
        "id": "KglbuIWdQKYy"
      },
      "source": [
        "## Modelling\r\n",
        "\r\n",
        "Membuat model dengan arsitektur sebagai berikut.\r\n",
        "\r\n",
        "![Arsitektur Model](https://raw.githubusercontent.com/Hyuto/bdc-2021/master/assets/arsitektur-model.png)"
      ]
    },
    {
      "cell_type": "code",
      "execution_count": null,
      "metadata": {
        "execution": {
          "iopub.execute_input": "2021-11-04T15:21:24.278642Z",
          "iopub.status.busy": "2021-11-04T15:21:24.278033Z",
          "iopub.status.idle": "2021-11-04T15:21:24.291701Z",
          "shell.execute_reply": "2021-11-04T15:21:24.289633Z",
          "shell.execute_reply.started": "2021-11-04T15:21:24.278602Z"
        },
        "id": "SBlgvT-MQKYy",
        "trusted": true
      },
      "outputs": [],
      "source": [
        "def build_model(kernel_s=(3,3)):\n",
        "    model = tf.keras.models.Sequential([\n",
        "        tf.keras.layers.Conv2D(32,kernel_s,activation='relu',input_shape=(200,200,3),\n",
        "                            kernel_regularizer=tf.keras.regularizers.l2(0.001),padding=\"VALID\"),\n",
        "        tf.keras.layers.BatchNormalization(),\n",
        "        tf.keras.layers.AveragePooling2D((2,2)),\n",
        "        tf.keras.layers.Conv2D(64,kernel_s,activation='relu'),\n",
        "        tf.keras.layers.BatchNormalization(),\n",
        "        tf.keras.layers.AveragePooling2D((2,2)),\n",
        "        tf.keras.layers.Conv2D(64,kernel_s,activation='relu'),\n",
        "        tf.keras.layers.BatchNormalization(),\n",
        "        tf.keras.layers.AveragePooling2D((2,2)),\n",
        "        tf.keras.layers.Conv2D(128,kernel_s,activation='relu'),\n",
        "        tf.keras.layers.BatchNormalization(),\n",
        "        tf.keras.layers.AveragePooling2D((2,2)),\n",
        "        tf.keras.layers.Conv2D(128,kernel_s,activation='relu'),\n",
        "        tf.keras.layers.BatchNormalization(),\n",
        "        tf.keras.layers.AveragePooling2D((2,2)),\n",
        "        tf.keras.layers.Conv2D(256,kernel_s,activation='relu'),\n",
        "        tf.keras.layers.BatchNormalization(),\n",
        "        tf.keras.layers.AveragePooling2D((2,2)),\n",
        "        tf.keras.layers.Flatten(),\n",
        "        tf.keras.layers.Dense(512, activation='relu', \n",
        "                              kernel_regularizer=tf.keras.regularizers.l2(5e-4)),\n",
        "        tf.keras.layers.Dense(1, activation='linear'),\n",
        "    ])\n",
        "    model.compile(loss=\"mse\", optimizer=\"adamax\", metrics=['mse'])\n",
        "    return model"
      ]
    },
    {
      "cell_type": "markdown",
      "metadata": {
        "id": "wyFfXMMDQKYy"
      },
      "source": [
        "**Tensorflow Data**\n",
        "\n",
        "Load data gambar menggunakan `Tensorflow Data` agar pada saat pelatihan model penggunaan memmori dapat lebih optimal"
      ]
    },
    {
      "cell_type": "code",
      "execution_count": null,
      "metadata": {
        "execution": {
          "iopub.execute_input": "2021-11-04T15:20:58.782725Z",
          "iopub.status.busy": "2021-11-04T15:20:58.782415Z",
          "iopub.status.idle": "2021-11-04T15:20:58.789108Z",
          "shell.execute_reply": "2021-11-04T15:20:58.788465Z",
          "shell.execute_reply.started": "2021-11-04T15:20:58.782677Z"
        },
        "id": "wcDUiWKiQKYy",
        "trusted": true
      },
      "outputs": [],
      "source": [
        "def decode_image(filename, label=None, image_size=SIZE):\n",
        "    \"\"\"\n",
        "    Decode Image from String Path Tensor\n",
        "    \"\"\"\n",
        "    bits = tf.io.read_file(filename)\n",
        "    image = tf.image.decode_jpeg(bits, channels=3)\n",
        "    image = tf.cast(image, tf.float32) / 255.0\n",
        "    image = tf.image.resize(image, SIZE)\n",
        "\n",
        "    if label is None: # if test\n",
        "        return image\n",
        "    else:\n",
        "        return image, label"
      ]
    },
    {
      "cell_type": "markdown",
      "metadata": {
        "id": "s5_4ue8sTIbQ"
      },
      "source": [
        "**Training Model**\r\n",
        "\r\n",
        "Proses ini dilakukan dengan mensplit data menggunakan `StratifiedKFold` sebanyak 3 split lalu untuk setiap split akan dibangun sebuah model untuk dilatih. Setiap model ini akan digunakan untuk melakukan peramalan terhadap data test. Pada proses trainingnya setiap model akan diukur tingkat kebaikannya dengan menggunakan metric `MSE` lalu dikakukan penyimpanan weight pada model saat `val_mse` berada pada nilai terkecil selama pelatihan model sebanyak `150 epochs`."
      ]
    },
    {
      "cell_type": "code",
      "execution_count": null,
      "metadata": {
        "colab": {
          "base_uri": "https://localhost:8080/"
        },
        "execution": {
          "iopub.execute_input": "2021-11-04T15:22:04.592319Z",
          "iopub.status.busy": "2021-11-04T15:22:04.592050Z"
        },
        "id": "rwNDHE6YQKYz",
        "outputId": "287b4c35-3ed8-46b5-9c3f-5e92d9dd619d",
        "trusted": true
      },
      "outputs": [],
      "source": [
        "split = 3\n",
        "prediksi = np.zeros((len(new_test_images), 1), dtype=np.float32)\n",
        "mse_scores = []\n",
        "\n",
        "test_dataset = (\n",
        "    tf.data.Dataset\n",
        "    .from_tensor_slices((new_test_images))\n",
        "    .map(decode_image)\n",
        "    .batch(BATCH_SIZE)\n",
        ")\n",
        "\n",
        "cv = StratifiedKFold(n_splits=split, shuffle=True, random_state=SEED)\n",
        "for i, (train_index, test_index) in enumerate(cv.split(new_images, new_labels)):\n",
        "    tf.keras.backend.clear_session()\n",
        "    x_train, x_valid = new_images[train_index], new_images[test_index]\n",
        "    y_train, y_valid = new_ages[train_index], new_ages[test_index]\n",
        "\n",
        "    train_dataset = (\n",
        "        tf.data.Dataset\n",
        "        .from_tensor_slices((x_train, y_train))\n",
        "        .map(decode_image, num_parallel_calls=tf.data.AUTOTUNE)\n",
        "        .cache()\n",
        "        .repeat()\n",
        "        .shuffle(1024)\n",
        "        .batch(BATCH_SIZE)\n",
        "        .prefetch(tf.data.AUTOTUNE)\n",
        "    )\n",
        "    \n",
        "    valid_dataset = (\n",
        "        tf.data.Dataset\n",
        "        .from_tensor_slices((x_valid, y_valid))\n",
        "        .map(decode_image, num_parallel_calls=tf.data.AUTOTUNE)\n",
        "        .batch(BATCH_SIZE)\n",
        "        .cache()\n",
        "        .prefetch(tf.data.AUTOTUNE)\n",
        "    )\n",
        "\n",
        "    model = build_model()\n",
        "    checkpoint = tf.keras.callbacks.ModelCheckpoint(f'{i}_best_model.h5', monitor='val_mse', \n",
        "                                                save_best_only=True, save_weights_only=True, \n",
        "                                                mode='min')\n",
        "    print(f\"\\nCV {i+1}\")\n",
        "    model.fit(train_dataset, epochs=150, validation_data=valid_dataset, \n",
        "              steps_per_epoch=len(x_train) // BATCH_SIZE,\n",
        "              callbacks = [checkpoint])\n",
        "    model.load_weights(f'{i}_best_model.h5')\n",
        "    mse = mean_squared_error(y_valid, model.predict(valid_dataset))\n",
        "    mse_scores.append(mse)\n",
        "    \n",
        "    prediksi += model.predict(test_dataset)\n",
        "\n",
        "    del train_dataset\n",
        "    del valid_dataset"
      ]
    },
    {
      "cell_type": "markdown",
      "metadata": {
        "id": "qoSgarSPTetI"
      },
      "source": [
        "## Evaluasi Model\n",
        "\n",
        "Melihat kualitas model pada setiap `split` terhadap data validasi dengan `MSE`-nya"
      ]
    },
    {
      "cell_type": "code",
      "execution_count": null,
      "metadata": {
        "colab": {
          "base_uri": "https://localhost:8080/"
        },
        "id": "wE5UhHJUQKYz",
        "outputId": "588e7a25-4f71-4104-fc47-83512e53fedd",
        "trusted": true
      },
      "outputs": [],
      "source": [
        "for i in range(split):\n",
        "    print(f\"Split {i + 1} : {mse_scores[i]} mse\")\n",
        "    \n",
        "print(\"\\nMean MSE : \", sum(mse_scores) / split)"
      ]
    },
    {
      "cell_type": "markdown",
      "metadata": {
        "id": "RHTKWybdQKYz"
      },
      "source": [
        "## Membuat Submission\n",
        "\n",
        "Membuat submission"
      ]
    },
    {
      "cell_type": "code",
      "execution_count": null,
      "metadata": {
        "colab": {
          "base_uri": "https://localhost:8080/",
          "height": 203
        },
        "execution": {
          "iopub.status.busy": "2021-11-04T14:24:19.930120Z",
          "iopub.status.idle": "2021-11-04T14:24:19.930784Z",
          "shell.execute_reply": "2021-11-04T14:24:19.930564Z",
          "shell.execute_reply.started": "2021-11-04T14:24:19.930538Z"
        },
        "id": "5-aSzNGCQKYz",
        "outputId": "53899ed7-d7f5-49b2-ad1d-391955c5ad14",
        "trusted": true
      },
      "outputs": [],
      "source": [
        "submission = pd.DataFrame({'id' :[x.split('/')[-1].split('.')[0] for x in new_test_images],\n",
        "                           'usia': np.round(prediksi.flatten() / split).astype(int)})\n",
        "test = test.merge(submission, on=\"id\")\n",
        "test.head()"
      ]
    },
    {
      "cell_type": "markdown",
      "metadata": {
        "id": "ZjzEHjI0T1Qn"
      },
      "source": [
        "**Melihat distribusi hasil prediksi**"
      ]
    },
    {
      "cell_type": "code",
      "execution_count": null,
      "metadata": {
        "colab": {
          "base_uri": "https://localhost:8080/",
          "height": 339
        },
        "id": "F9c0R9KxRs75",
        "outputId": "95a790aa-39ac-4bff-a90a-138f9bfaa087"
      },
      "outputs": [],
      "source": [
        "plt.figure(figsize=(10, 5))\n",
        "sns.countplot(x=test[\"usia\"])\n",
        "plt.xlabel(\"Umur\", fontsize=16)\n",
        "plt.show()"
      ]
    },
    {
      "cell_type": "markdown",
      "metadata": {
        "id": "Ei_BUQZWT9en"
      },
      "source": [
        "**Export csv**"
      ]
    },
    {
      "cell_type": "code",
      "execution_count": null,
      "metadata": {
        "execution": {
          "iopub.status.busy": "2021-11-04T14:24:19.932107Z",
          "iopub.status.idle": "2021-11-04T14:24:19.932769Z",
          "shell.execute_reply": "2021-11-04T14:24:19.932550Z",
          "shell.execute_reply.started": "2021-11-04T14:24:19.932524Z"
        },
        "id": "1COwFBKSQKYz",
        "trusted": true
      },
      "outputs": [],
      "source": [
        "test.to_csv(f\"submission-age.csv\", index=False)"
      ]
    }
  ],
  "metadata": {
    "accelerator": "GPU",
    "colab": {
      "collapsed_sections": [],
      "name": "[AGE] BDC - 2021.ipynb",
      "provenance": []
    },
    "interpreter": {
      "hash": "b5c2f9982651e6679fa9a68d4ecb0e0e8c17f3b7df4d9abcf37d6df8a7589c17"
    },
    "kernelspec": {
      "display_name": "Python 3.8.10 64-bit",
      "name": "python3"
    },
    "language_info": {
      "name": "python",
      "version": ""
    },
    "widgets": {
      "application/vnd.jupyter.widget-state+json": {
        "0c81596bbdfe4501aa04f0c262c6969d": {
          "model_module": "@jupyter-widgets/base",
          "model_module_version": "1.2.0",
          "model_name": "LayoutModel",
          "state": {
            "_model_module": "@jupyter-widgets/base",
            "_model_module_version": "1.2.0",
            "_model_name": "LayoutModel",
            "_view_count": null,
            "_view_module": "@jupyter-widgets/base",
            "_view_module_version": "1.2.0",
            "_view_name": "LayoutView",
            "align_content": null,
            "align_items": null,
            "align_self": null,
            "border": null,
            "bottom": null,
            "display": null,
            "flex": null,
            "flex_flow": null,
            "grid_area": null,
            "grid_auto_columns": null,
            "grid_auto_flow": null,
            "grid_auto_rows": null,
            "grid_column": null,
            "grid_gap": null,
            "grid_row": null,
            "grid_template_areas": null,
            "grid_template_columns": null,
            "grid_template_rows": null,
            "height": null,
            "justify_content": null,
            "justify_items": null,
            "left": null,
            "margin": null,
            "max_height": null,
            "max_width": null,
            "min_height": null,
            "min_width": null,
            "object_fit": null,
            "object_position": null,
            "order": null,
            "overflow": null,
            "overflow_x": null,
            "overflow_y": null,
            "padding": null,
            "right": null,
            "top": null,
            "visibility": null,
            "width": null
          }
        },
        "14b1db466d1748c0b9725c76239d044d": {
          "model_module": "@jupyter-widgets/base",
          "model_module_version": "1.2.0",
          "model_name": "LayoutModel",
          "state": {
            "_model_module": "@jupyter-widgets/base",
            "_model_module_version": "1.2.0",
            "_model_name": "LayoutModel",
            "_view_count": null,
            "_view_module": "@jupyter-widgets/base",
            "_view_module_version": "1.2.0",
            "_view_name": "LayoutView",
            "align_content": null,
            "align_items": null,
            "align_self": null,
            "border": null,
            "bottom": null,
            "display": null,
            "flex": null,
            "flex_flow": null,
            "grid_area": null,
            "grid_auto_columns": null,
            "grid_auto_flow": null,
            "grid_auto_rows": null,
            "grid_column": null,
            "grid_gap": null,
            "grid_row": null,
            "grid_template_areas": null,
            "grid_template_columns": null,
            "grid_template_rows": null,
            "height": null,
            "justify_content": null,
            "justify_items": null,
            "left": null,
            "margin": null,
            "max_height": null,
            "max_width": null,
            "min_height": null,
            "min_width": null,
            "object_fit": null,
            "object_position": null,
            "order": null,
            "overflow": null,
            "overflow_x": null,
            "overflow_y": null,
            "padding": null,
            "right": null,
            "top": null,
            "visibility": null,
            "width": null
          }
        },
        "226dd6c91c994388a00b830cd0f9af78": {
          "model_module": "@jupyter-widgets/controls",
          "model_module_version": "1.5.0",
          "model_name": "HBoxModel",
          "state": {
            "_dom_classes": [],
            "_model_module": "@jupyter-widgets/controls",
            "_model_module_version": "1.5.0",
            "_model_name": "HBoxModel",
            "_view_count": null,
            "_view_module": "@jupyter-widgets/controls",
            "_view_module_version": "1.5.0",
            "_view_name": "HBoxView",
            "box_style": "",
            "children": [
              "IPY_MODEL_33e8ebe614344dd792833b53fc38514b",
              "IPY_MODEL_787a0296945744d09b373007a7acc3d9",
              "IPY_MODEL_68a29babfa4d4441be6e9c58f5fdc4b2"
            ],
            "layout": "IPY_MODEL_0c81596bbdfe4501aa04f0c262c6969d"
          }
        },
        "2527df5ab3294d529f61d84c053882f4": {
          "model_module": "@jupyter-widgets/controls",
          "model_module_version": "1.5.0",
          "model_name": "DescriptionStyleModel",
          "state": {
            "_model_module": "@jupyter-widgets/controls",
            "_model_module_version": "1.5.0",
            "_model_name": "DescriptionStyleModel",
            "_view_count": null,
            "_view_module": "@jupyter-widgets/base",
            "_view_module_version": "1.2.0",
            "_view_name": "StyleView",
            "description_width": ""
          }
        },
        "2daa22899f034f3b965d92db1658def8": {
          "model_module": "@jupyter-widgets/controls",
          "model_module_version": "1.5.0",
          "model_name": "DescriptionStyleModel",
          "state": {
            "_model_module": "@jupyter-widgets/controls",
            "_model_module_version": "1.5.0",
            "_model_name": "DescriptionStyleModel",
            "_view_count": null,
            "_view_module": "@jupyter-widgets/base",
            "_view_module_version": "1.2.0",
            "_view_name": "StyleView",
            "description_width": ""
          }
        },
        "2de8cc0ea6b74fd9b04886ea384303b5": {
          "model_module": "@jupyter-widgets/base",
          "model_module_version": "1.2.0",
          "model_name": "LayoutModel",
          "state": {
            "_model_module": "@jupyter-widgets/base",
            "_model_module_version": "1.2.0",
            "_model_name": "LayoutModel",
            "_view_count": null,
            "_view_module": "@jupyter-widgets/base",
            "_view_module_version": "1.2.0",
            "_view_name": "LayoutView",
            "align_content": null,
            "align_items": null,
            "align_self": null,
            "border": null,
            "bottom": null,
            "display": null,
            "flex": null,
            "flex_flow": null,
            "grid_area": null,
            "grid_auto_columns": null,
            "grid_auto_flow": null,
            "grid_auto_rows": null,
            "grid_column": null,
            "grid_gap": null,
            "grid_row": null,
            "grid_template_areas": null,
            "grid_template_columns": null,
            "grid_template_rows": null,
            "height": null,
            "justify_content": null,
            "justify_items": null,
            "left": null,
            "margin": null,
            "max_height": null,
            "max_width": null,
            "min_height": null,
            "min_width": null,
            "object_fit": null,
            "object_position": null,
            "order": null,
            "overflow": null,
            "overflow_x": null,
            "overflow_y": null,
            "padding": null,
            "right": null,
            "top": null,
            "visibility": null,
            "width": null
          }
        },
        "3093e07242244b5aad4efe3bffab0dc5": {
          "model_module": "@jupyter-widgets/controls",
          "model_module_version": "1.5.0",
          "model_name": "HTMLModel",
          "state": {
            "_dom_classes": [],
            "_model_module": "@jupyter-widgets/controls",
            "_model_module_version": "1.5.0",
            "_model_name": "HTMLModel",
            "_view_count": null,
            "_view_module": "@jupyter-widgets/controls",
            "_view_module_version": "1.5.0",
            "_view_name": "HTMLView",
            "description": "",
            "description_tooltip": null,
            "layout": "IPY_MODEL_3d2d4c9a81374adf987e103c858ad8e0",
            "placeholder": "​",
            "style": "IPY_MODEL_2527df5ab3294d529f61d84c053882f4",
            "value": "../SD20210000722/excluded-age.txt: "
          }
        },
        "33e8ebe614344dd792833b53fc38514b": {
          "model_module": "@jupyter-widgets/controls",
          "model_module_version": "1.5.0",
          "model_name": "HTMLModel",
          "state": {
            "_dom_classes": [],
            "_model_module": "@jupyter-widgets/controls",
            "_model_module_version": "1.5.0",
            "_model_name": "HTMLModel",
            "_view_count": null,
            "_view_module": "@jupyter-widgets/controls",
            "_view_module_version": "1.5.0",
            "_view_name": "HTMLView",
            "description": "",
            "description_tooltip": null,
            "layout": "IPY_MODEL_2de8cc0ea6b74fd9b04886ea384303b5",
            "placeholder": "​",
            "style": "IPY_MODEL_b094e4ef509c43349757f6ceaac6ecb0",
            "value": "../SD20210000722/data_SD20210000722.zip: 100%"
          }
        },
        "3d2d4c9a81374adf987e103c858ad8e0": {
          "model_module": "@jupyter-widgets/base",
          "model_module_version": "1.2.0",
          "model_name": "LayoutModel",
          "state": {
            "_model_module": "@jupyter-widgets/base",
            "_model_module_version": "1.2.0",
            "_model_name": "LayoutModel",
            "_view_count": null,
            "_view_module": "@jupyter-widgets/base",
            "_view_module_version": "1.2.0",
            "_view_name": "LayoutView",
            "align_content": null,
            "align_items": null,
            "align_self": null,
            "border": null,
            "bottom": null,
            "display": null,
            "flex": null,
            "flex_flow": null,
            "grid_area": null,
            "grid_auto_columns": null,
            "grid_auto_flow": null,
            "grid_auto_rows": null,
            "grid_column": null,
            "grid_gap": null,
            "grid_row": null,
            "grid_template_areas": null,
            "grid_template_columns": null,
            "grid_template_rows": null,
            "height": null,
            "justify_content": null,
            "justify_items": null,
            "left": null,
            "margin": null,
            "max_height": null,
            "max_width": null,
            "min_height": null,
            "min_width": null,
            "object_fit": null,
            "object_position": null,
            "order": null,
            "overflow": null,
            "overflow_x": null,
            "overflow_y": null,
            "padding": null,
            "right": null,
            "top": null,
            "visibility": null,
            "width": null
          }
        },
        "408b4e0b3d41445c817c2fa9d7b13ea8": {
          "model_module": "@jupyter-widgets/base",
          "model_module_version": "1.2.0",
          "model_name": "LayoutModel",
          "state": {
            "_model_module": "@jupyter-widgets/base",
            "_model_module_version": "1.2.0",
            "_model_name": "LayoutModel",
            "_view_count": null,
            "_view_module": "@jupyter-widgets/base",
            "_view_module_version": "1.2.0",
            "_view_name": "LayoutView",
            "align_content": null,
            "align_items": null,
            "align_self": null,
            "border": null,
            "bottom": null,
            "display": null,
            "flex": null,
            "flex_flow": null,
            "grid_area": null,
            "grid_auto_columns": null,
            "grid_auto_flow": null,
            "grid_auto_rows": null,
            "grid_column": null,
            "grid_gap": null,
            "grid_row": null,
            "grid_template_areas": null,
            "grid_template_columns": null,
            "grid_template_rows": null,
            "height": null,
            "justify_content": null,
            "justify_items": null,
            "left": null,
            "margin": null,
            "max_height": null,
            "max_width": null,
            "min_height": null,
            "min_width": null,
            "object_fit": null,
            "object_position": null,
            "order": null,
            "overflow": null,
            "overflow_x": null,
            "overflow_y": null,
            "padding": null,
            "right": null,
            "top": null,
            "visibility": null,
            "width": null
          }
        },
        "68a29babfa4d4441be6e9c58f5fdc4b2": {
          "model_module": "@jupyter-widgets/controls",
          "model_module_version": "1.5.0",
          "model_name": "HTMLModel",
          "state": {
            "_dom_classes": [],
            "_model_module": "@jupyter-widgets/controls",
            "_model_module_version": "1.5.0",
            "_model_name": "HTMLModel",
            "_view_count": null,
            "_view_module": "@jupyter-widgets/controls",
            "_view_module_version": "1.5.0",
            "_view_name": "HTMLView",
            "description": "",
            "description_tooltip": null,
            "layout": "IPY_MODEL_6cfc29478d50424597d68dc430c363b0",
            "placeholder": "​",
            "style": "IPY_MODEL_8548af20139945edb0a3f7e8938e1c54",
            "value": " 586M/586M [00:18&lt;00:00, 30.5MiB/s]"
          }
        },
        "6cfc29478d50424597d68dc430c363b0": {
          "model_module": "@jupyter-widgets/base",
          "model_module_version": "1.2.0",
          "model_name": "LayoutModel",
          "state": {
            "_model_module": "@jupyter-widgets/base",
            "_model_module_version": "1.2.0",
            "_model_name": "LayoutModel",
            "_view_count": null,
            "_view_module": "@jupyter-widgets/base",
            "_view_module_version": "1.2.0",
            "_view_name": "LayoutView",
            "align_content": null,
            "align_items": null,
            "align_self": null,
            "border": null,
            "bottom": null,
            "display": null,
            "flex": null,
            "flex_flow": null,
            "grid_area": null,
            "grid_auto_columns": null,
            "grid_auto_flow": null,
            "grid_auto_rows": null,
            "grid_column": null,
            "grid_gap": null,
            "grid_row": null,
            "grid_template_areas": null,
            "grid_template_columns": null,
            "grid_template_rows": null,
            "height": null,
            "justify_content": null,
            "justify_items": null,
            "left": null,
            "margin": null,
            "max_height": null,
            "max_width": null,
            "min_height": null,
            "min_width": null,
            "object_fit": null,
            "object_position": null,
            "order": null,
            "overflow": null,
            "overflow_x": null,
            "overflow_y": null,
            "padding": null,
            "right": null,
            "top": null,
            "visibility": null,
            "width": null
          }
        },
        "70524a9b34b24e38b0eb58488021e879": {
          "model_module": "@jupyter-widgets/controls",
          "model_module_version": "1.5.0",
          "model_name": "HBoxModel",
          "state": {
            "_dom_classes": [],
            "_model_module": "@jupyter-widgets/controls",
            "_model_module_version": "1.5.0",
            "_model_name": "HBoxModel",
            "_view_count": null,
            "_view_module": "@jupyter-widgets/controls",
            "_view_module_version": "1.5.0",
            "_view_name": "HBoxView",
            "box_style": "",
            "children": [
              "IPY_MODEL_3093e07242244b5aad4efe3bffab0dc5",
              "IPY_MODEL_f2dcecf4c77c46b9a37ea97fee90ccf2",
              "IPY_MODEL_facf89c865ae4ef8b9a3d765734b1794"
            ],
            "layout": "IPY_MODEL_e667f2be70424a0f85d3767a1443a242"
          }
        },
        "787a0296945744d09b373007a7acc3d9": {
          "model_module": "@jupyter-widgets/controls",
          "model_module_version": "1.5.0",
          "model_name": "FloatProgressModel",
          "state": {
            "_dom_classes": [],
            "_model_module": "@jupyter-widgets/controls",
            "_model_module_version": "1.5.0",
            "_model_name": "FloatProgressModel",
            "_view_count": null,
            "_view_module": "@jupyter-widgets/controls",
            "_view_module_version": "1.5.0",
            "_view_name": "ProgressView",
            "bar_style": "success",
            "description": "",
            "description_tooltip": null,
            "layout": "IPY_MODEL_f5709c8c3018451eb5f6772251f89747",
            "max": 613973972,
            "min": 0,
            "orientation": "horizontal",
            "style": "IPY_MODEL_d652ff3858674198ab9a18c8325509da",
            "value": 613973972
          }
        },
        "8548af20139945edb0a3f7e8938e1c54": {
          "model_module": "@jupyter-widgets/controls",
          "model_module_version": "1.5.0",
          "model_name": "DescriptionStyleModel",
          "state": {
            "_model_module": "@jupyter-widgets/controls",
            "_model_module_version": "1.5.0",
            "_model_name": "DescriptionStyleModel",
            "_view_count": null,
            "_view_module": "@jupyter-widgets/base",
            "_view_module_version": "1.2.0",
            "_view_name": "StyleView",
            "description_width": ""
          }
        },
        "962a0a1cbafe4340a3f8382356fc071d": {
          "model_module": "@jupyter-widgets/controls",
          "model_module_version": "1.5.0",
          "model_name": "ProgressStyleModel",
          "state": {
            "_model_module": "@jupyter-widgets/controls",
            "_model_module_version": "1.5.0",
            "_model_name": "ProgressStyleModel",
            "_view_count": null,
            "_view_module": "@jupyter-widgets/base",
            "_view_module_version": "1.2.0",
            "_view_name": "StyleView",
            "bar_color": null,
            "description_width": ""
          }
        },
        "b094e4ef509c43349757f6ceaac6ecb0": {
          "model_module": "@jupyter-widgets/controls",
          "model_module_version": "1.5.0",
          "model_name": "DescriptionStyleModel",
          "state": {
            "_model_module": "@jupyter-widgets/controls",
            "_model_module_version": "1.5.0",
            "_model_name": "DescriptionStyleModel",
            "_view_count": null,
            "_view_module": "@jupyter-widgets/base",
            "_view_module_version": "1.2.0",
            "_view_name": "StyleView",
            "description_width": ""
          }
        },
        "d652ff3858674198ab9a18c8325509da": {
          "model_module": "@jupyter-widgets/controls",
          "model_module_version": "1.5.0",
          "model_name": "ProgressStyleModel",
          "state": {
            "_model_module": "@jupyter-widgets/controls",
            "_model_module_version": "1.5.0",
            "_model_name": "ProgressStyleModel",
            "_view_count": null,
            "_view_module": "@jupyter-widgets/base",
            "_view_module_version": "1.2.0",
            "_view_name": "StyleView",
            "bar_color": null,
            "description_width": ""
          }
        },
        "e667f2be70424a0f85d3767a1443a242": {
          "model_module": "@jupyter-widgets/base",
          "model_module_version": "1.2.0",
          "model_name": "LayoutModel",
          "state": {
            "_model_module": "@jupyter-widgets/base",
            "_model_module_version": "1.2.0",
            "_model_name": "LayoutModel",
            "_view_count": null,
            "_view_module": "@jupyter-widgets/base",
            "_view_module_version": "1.2.0",
            "_view_name": "LayoutView",
            "align_content": null,
            "align_items": null,
            "align_self": null,
            "border": null,
            "bottom": null,
            "display": null,
            "flex": null,
            "flex_flow": null,
            "grid_area": null,
            "grid_auto_columns": null,
            "grid_auto_flow": null,
            "grid_auto_rows": null,
            "grid_column": null,
            "grid_gap": null,
            "grid_row": null,
            "grid_template_areas": null,
            "grid_template_columns": null,
            "grid_template_rows": null,
            "height": null,
            "justify_content": null,
            "justify_items": null,
            "left": null,
            "margin": null,
            "max_height": null,
            "max_width": null,
            "min_height": null,
            "min_width": null,
            "object_fit": null,
            "object_position": null,
            "order": null,
            "overflow": null,
            "overflow_x": null,
            "overflow_y": null,
            "padding": null,
            "right": null,
            "top": null,
            "visibility": null,
            "width": null
          }
        },
        "f2dcecf4c77c46b9a37ea97fee90ccf2": {
          "model_module": "@jupyter-widgets/controls",
          "model_module_version": "1.5.0",
          "model_name": "FloatProgressModel",
          "state": {
            "_dom_classes": [],
            "_model_module": "@jupyter-widgets/controls",
            "_model_module_version": "1.5.0",
            "_model_name": "FloatProgressModel",
            "_view_count": null,
            "_view_module": "@jupyter-widgets/controls",
            "_view_module_version": "1.5.0",
            "_view_name": "ProgressView",
            "bar_style": "success",
            "description": "",
            "description_tooltip": null,
            "layout": "IPY_MODEL_14b1db466d1748c0b9725c76239d044d",
            "max": 827,
            "min": 0,
            "orientation": "horizontal",
            "style": "IPY_MODEL_962a0a1cbafe4340a3f8382356fc071d",
            "value": 827
          }
        },
        "f5709c8c3018451eb5f6772251f89747": {
          "model_module": "@jupyter-widgets/base",
          "model_module_version": "1.2.0",
          "model_name": "LayoutModel",
          "state": {
            "_model_module": "@jupyter-widgets/base",
            "_model_module_version": "1.2.0",
            "_model_name": "LayoutModel",
            "_view_count": null,
            "_view_module": "@jupyter-widgets/base",
            "_view_module_version": "1.2.0",
            "_view_name": "LayoutView",
            "align_content": null,
            "align_items": null,
            "align_self": null,
            "border": null,
            "bottom": null,
            "display": null,
            "flex": null,
            "flex_flow": null,
            "grid_area": null,
            "grid_auto_columns": null,
            "grid_auto_flow": null,
            "grid_auto_rows": null,
            "grid_column": null,
            "grid_gap": null,
            "grid_row": null,
            "grid_template_areas": null,
            "grid_template_columns": null,
            "grid_template_rows": null,
            "height": null,
            "justify_content": null,
            "justify_items": null,
            "left": null,
            "margin": null,
            "max_height": null,
            "max_width": null,
            "min_height": null,
            "min_width": null,
            "object_fit": null,
            "object_position": null,
            "order": null,
            "overflow": null,
            "overflow_x": null,
            "overflow_y": null,
            "padding": null,
            "right": null,
            "top": null,
            "visibility": null,
            "width": null
          }
        },
        "facf89c865ae4ef8b9a3d765734b1794": {
          "model_module": "@jupyter-widgets/controls",
          "model_module_version": "1.5.0",
          "model_name": "HTMLModel",
          "state": {
            "_dom_classes": [],
            "_model_module": "@jupyter-widgets/controls",
            "_model_module_version": "1.5.0",
            "_model_name": "HTMLModel",
            "_view_count": null,
            "_view_module": "@jupyter-widgets/controls",
            "_view_module_version": "1.5.0",
            "_view_name": "HTMLView",
            "description": "",
            "description_tooltip": null,
            "layout": "IPY_MODEL_408b4e0b3d41445c817c2fa9d7b13ea8",
            "placeholder": "​",
            "style": "IPY_MODEL_2daa22899f034f3b965d92db1658def8",
            "value": " 4.30k/? [00:00&lt;00:00, 101kiB/s]"
          }
        }
      }
    }
  },
  "nbformat": 4,
  "nbformat_minor": 0
}